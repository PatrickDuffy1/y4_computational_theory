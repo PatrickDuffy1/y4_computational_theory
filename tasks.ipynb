{
 "cells": [
  {
   "cell_type": "markdown",
   "metadata": {},
   "source": [
    "# Computational Theory Tasks"
   ]
  },
  {
   "cell_type": "code",
   "execution_count": 1,
   "metadata": {},
   "outputs": [],
   "source": [
    "# https://numpy.org/doc/stable/user/index.html#user\n",
    "import numpy as np\n",
    "\n",
    "# https://docs.python.org/3/library/math.html\n",
    "import math\n",
    "\n",
    "# https://docs.python.org/3/library/hashlib.html\n",
    "import hashlib\n",
    "\n",
    "# https://docs.python.org/3/library/itertools.html#itertools.permutations\n",
    "from itertools import permutations"
   ]
  },
  {
   "cell_type": "markdown",
   "metadata": {},
   "source": [
    "## Task 1: Binary Representations\n",
    "\n",
    "This task involves implementing low-level bitwise operations.\n",
    "\n",
    "The goal is to:\n",
    "1. Rotate bits in a 32-bit unsigned integer (left and right).\n",
    "2. Select bits conditionally using a \"choose\" function.\n",
    "3. Compute a majority function across three inputs at the bit level.\n",
    "\n",
    "Each function uses `numpy.uint32` to ensure strict 32-bit unsigned integer behavior. https://numpy.org/doc/stable/reference/arrays.scalars.html#numpy.uint32  \n",
    "All of these functions are discussed in: [FIPS 180-4, Secure Hash Standard (SHS).](https://csrc.nist.gov/pubs/fips/180-4/upd1/final)"
   ]
  },
  {
   "cell_type": "markdown",
   "metadata": {},
   "source": [
    "### Utility Function for Displaying Bits\n",
    "\n",
    "This helper function prints a 32-bit binary representation of an unsigned integer with leading zeros."
   ]
  },
  {
   "cell_type": "code",
   "execution_count": 2,
   "metadata": {},
   "outputs": [],
   "source": [
    "# Print the bits using zfill to show the leading zeros\n",
    "# https://docs.python.org/3/library/stdtypes.html\n",
    "def print_bits_with_leading_zeros(message, value):\n",
    "    print(message, bin(value)[2:].zfill(np.iinfo(value.dtype).bits))"
   ]
  },
  {
   "cell_type": "markdown",
   "metadata": {},
   "source": [
    "### Function 1: Rotate Left (`rotl`)\n",
    "\n",
    "[FIPS 180-4, Secure Hash Standard (SHS).](https://csrc.nist.gov/pubs/fips/180-4/upd1/final)  \n",
    "This function rotates the bits of a 32-bit unsigned integer `x` to the left by `n` positions.\n",
    "\n",
    "- Bits shifted out from the left end are wrapped around to the right.\n",
    "- The result remains within 32-bit unsigned integer range."
   ]
  },
  {
   "cell_type": "code",
   "execution_count": 3,
   "metadata": {},
   "outputs": [],
   "source": [
    "def rotl(x, n=1):\n",
    "    # Convert x to 32-bit unsigned integer\n",
    "    # https://numpy.org/doc/2.1/reference/arrays.scalars.html#numpy.uint32\n",
    "    x = np.uint32(x)\n",
    "    y = np.uint32(x)\n",
    "\n",
    "    print_bits_with_leading_zeros(\"x bits:\", x)\n",
    "    \n",
    "    # Shift right part that wraps around\n",
    "    y = x >> (32 - n)\n",
    "\n",
    "    # Shift x to the left\n",
    "    x = x << n\n",
    "\n",
    "    # Combine both parts\n",
    "    result = np.uint32(x | y)\n",
    "\n",
    "    print_bits_with_leading_zeros(\"R bits:\", result)\n",
    "    \n",
    "    return result"
   ]
  },
  {
   "cell_type": "markdown",
   "metadata": {},
   "source": [
    "#### Example: Rotate Left"
   ]
  },
  {
   "cell_type": "code",
   "execution_count": 4,
   "metadata": {},
   "outputs": [
    {
     "name": "stdout",
     "output_type": "stream",
     "text": [
      "Rotate Left:\n",
      "x bits: 11101110011010110010100000000000\n",
      "R bits: 01110011010110010100000000000111\n",
      "1935228935 \n",
      "\n"
     ]
    }
   ],
   "source": [
    "print(\"Rotate Left:\")\n",
    "print(rotl(4000000000, 3), \"\\n\")"
   ]
  },
  {
   "cell_type": "markdown",
   "metadata": {},
   "source": [
    "### Function 2: Rotate Right (`rotr`)\n",
    "\n",
    "[FIPS 180-4, Secure Hash Standard (SHS).](https://csrc.nist.gov/pubs/fips/180-4/upd1/final)  \n",
    "This function rotates the bits of a 32-bit unsigned integer `x` to the right by `n` positions.\n",
    "\n",
    "- Bits shifted out from the right end are wrapped around to the left.\n",
    "- This is the reverse of `rotl`."
   ]
  },
  {
   "cell_type": "code",
   "execution_count": 5,
   "metadata": {},
   "outputs": [],
   "source": [
    "def rotr(x, n=1):\n",
    "    # Convert x to 32-bit unsigned integer\n",
    "    # https://numpy.org/doc/2.1/reference/arrays.scalars.html#numpy.uint32\n",
    "    x = np.uint32(x)\n",
    "    y = np.uint32(x)\n",
    "\n",
    "    print_bits_with_leading_zeros(\"x bits:\", x)\n",
    "    \n",
    "    # Shift left part that wraps around\n",
    "    y = x << (32 - n)\n",
    "\n",
    "    # Shift x to the right\n",
    "    x = x >> n\n",
    "\n",
    "    # Combine both parts\n",
    "    result = np.uint32(x | y)\n",
    "\n",
    "    print_bits_with_leading_zeros(\"R bits:\", result)\n",
    "    \n",
    "    return result"
   ]
  },
  {
   "cell_type": "markdown",
   "metadata": {},
   "source": [
    "#### Example: Rotate Right"
   ]
  },
  {
   "cell_type": "code",
   "execution_count": 6,
   "metadata": {},
   "outputs": [
    {
     "name": "stdout",
     "output_type": "stream",
     "text": [
      "Rotate Right:\n",
      "x bits: 00000000000000000000000000010100\n",
      "R bits: 10000000000000000000000000000010\n",
      "2147483650 \n",
      "\n"
     ]
    }
   ],
   "source": [
    "print(\"Rotate Right:\")\n",
    "print(rotr(20, 3), \"\\n\")"
   ]
  },
  {
   "cell_type": "markdown",
   "metadata": {},
   "source": [
    "### Function 3: Choose (`ch`)\n",
    "\n",
    "[FIPS 180-4, Secure Hash Standard (SHS).](https://csrc.nist.gov/pubs/fips/180-4/upd1/final)   \n",
    "This function performs a **bitwise selection**:\n",
    "\n",
    "- For each bit position:\n",
    "  - If the bit in `x` is 1, take the bit from `y`\n",
    "  - If the bit in `x` is 0, take the bit from `z`"
   ]
  },
  {
   "cell_type": "code",
   "execution_count": 7,
   "metadata": {},
   "outputs": [],
   "source": [
    "def ch(x, y, z):\n",
    "    # Ensure all inputs are treated as 32-bit unsigned integers\n",
    "    x = np.uint32(x)\n",
    "    y = np.uint32(y)\n",
    "    z = np.uint32(z)\n",
    "\n",
    "    # Initialize result\n",
    "    result = np.uint32(0)\n",
    "\n",
    "    # Bitwise choose: for each bit, choose bit from y if x is 1, else from z\n",
    "    # This could also be done with (x & y) | (~x & z), but as I had done as shown below first, I didn't change it.\n",
    "    result = (z & (x ^ z)) | (x & y)\n",
    "\n",
    "    # Display the 32-bit binary representations for debugging\n",
    "    print_bits_with_leading_zeros(\"x bits:\", x)\n",
    "    print_bits_with_leading_zeros(\"y bits:\", y)\n",
    "    print_bits_with_leading_zeros(\"z bits:\", z)\n",
    "    print_bits_with_leading_zeros(\"R bits:\", result)\n",
    "\n",
    "    return result"
   ]
  },
  {
   "cell_type": "markdown",
   "metadata": {},
   "source": [
    "#### Example: Choose Function"
   ]
  },
  {
   "cell_type": "code",
   "execution_count": 8,
   "metadata": {},
   "outputs": [
    {
     "name": "stdout",
     "output_type": "stream",
     "text": [
      "x bits: 00000000000011100110010101110110\n",
      "y bits: 00000000000001110010001101111000\n",
      "z bits: 00000000000000001011101101010000\n",
      "R bits: 00000000000001101011101101110000\n",
      "Choose: 441200 \n",
      "\n"
     ]
    }
   ],
   "source": [
    "print(\"Choose:\", ch(943478, 467832, 47952), \"\\n\")"
   ]
  },
  {
   "cell_type": "markdown",
   "metadata": {},
   "source": [
    "### Function 4: Majority (`maj`)\n",
    "\n",
    "[FIPS 180-4, Secure Hash Standard (SHS).](https://csrc.nist.gov/pubs/fips/180-4/upd1/final)   \n",
    "This function computes a **bitwise majority vote** across `x`, `y`, and `z`:\n",
    "\n",
    "- For each bit position, the result is 1 if at least **two out of three** inputs have a 1 at that position.\n",
    "- Otherwise, the result is 0."
   ]
  },
  {
   "cell_type": "code",
   "execution_count": 9,
   "metadata": {},
   "outputs": [],
   "source": [
    "def maj(x, y, z):\n",
    "    # Ensure all inputs are treated as 32-bit unsigned integers\n",
    "    x = np.uint32(x)\n",
    "    y = np.uint32(y)\n",
    "    z = np.uint32(z)\n",
    "\n",
    "    # Initialise result\n",
    "    result = np.uint32(0)\n",
    "\n",
    "    # Bitwise majority: for each bit position, set to 1 if at least two of the inputs have a 1\n",
    "    result = (x & y) | (x & z) | (y & z)\n",
    "\n",
    "    # Display the 32-bit binary representations for debugging\n",
    "    print_bits_with_leading_zeros(\"x bits:\", x)\n",
    "    print_bits_with_leading_zeros(\"y bits:\", y)\n",
    "    print_bits_with_leading_zeros(\"z bits:\", z)\n",
    "    print_bits_with_leading_zeros(\"R bits:\", result)\n",
    "\n",
    "    return result"
   ]
  },
  {
   "cell_type": "markdown",
   "metadata": {},
   "source": [
    "#### Example: Majority Function"
   ]
  },
  {
   "cell_type": "code",
   "execution_count": 10,
   "metadata": {},
   "outputs": [
    {
     "name": "stdout",
     "output_type": "stream",
     "text": [
      "x bits: 00000000000011100110010101110110\n",
      "y bits: 00000000000001110010001101111000\n",
      "z bits: 00000000000000001011101101010000\n",
      "R bits: 00000000000001100010001101110000\n",
      "Majority: 402288 \n",
      "\n"
     ]
    }
   ],
   "source": [
    "print(\"Majority:\", maj(943478, 467832, 47952), \"\\n\")"
   ]
  },
  {
   "cell_type": "markdown",
   "metadata": {},
   "source": [
    "## Task 2: Hash Functions\n",
    "\n",
    "### Objective\n",
    "\n",
    "Convert a simple hash function from C to Python and analyse the reasoning behind the constants used in the original C implementation.\n",
    "\n",
    "---\n",
    "\n",
    "### Original C Code\n",
    "\n",
    "The following hash function is taken from *The C Programming Language* by Brian Kernighan and Dennis Ritchie:\n",
    "\n",
    "```c\n",
    "unsigned hash(char *s) {\n",
    "    unsigned hashval;\n",
    "    for (hashval = 0; *s != '\\0'; s++)\n",
    "        hashval = *s + 31 * hashval;\n",
    "    return hashval % 101;\n",
    "}\n",
    "```\n",
    "\n",
    "---\n",
    "\n",
    "### Discussion\n",
    "\n",
    "This hash function processes a string one character at a time, using each character’s ASCII value in combination with a running total. The current hash value is multiplied by 31, then the ASCII value of the current character is added. Finally, the total modulo 101 is returned.\n",
    "\n",
    "#### Why is `31` used as the multiplier?\n",
    "\n",
    "In *The C Programming Language*, no specific justification is given for choosing `31` as the multiplier. It was likely selected because it worked well empirically: it's small, easy to compute with, and produced reasonably distributed hash values for typical inputs.\n",
    "\n",
    "That said, the use of 31 has since gained popularity — notably, it's also the multiplier in Java’s `String.hashCode()` implementation. Being a small odd prime, 31 helps reduce patterns in hash values, and `(x << 5) - x` can be used as an efficient alternative to multiplication by 31 on some systems.  \n",
    "https://stackoverflow.com/questions/299304/why-does-javas-hashcode-in-string-use-31-as-a-multiplier  \n",
    "https://www.geeksforgeeks.org/why-does-javas-hashcode-in-string-use-31-as-a-multiplier/\n",
    "\n",
    "#### Why is `101` used as the modulus?\n",
    "\n",
    "Similarly, `101` is a small prime number likely chosen for its simplicity and practical effectiveness in small hash tables. Using a prime modulus helps avoid clustering and improves the spread of hash values, especially when dealing with typical strings in educational or constrained scenarios.  \n",
    "https://cis.stvincent.edu/html/tutorials/swd/hash/hash.html  \n",
    "\n",
    "---\n",
    "\n",
    "### Summary\n",
    "\n",
    "The constants `31` and `101` in this hash function were likely chosen because they worked well in practice, not due to deep theoretical reasoning. However, there are some theoretical reasons for why they work well.\n",
    "\n",
    "(**Note**: I had to name the function hash_function instead of hash like the original because hash is a keyword in python)"
   ]
  },
  {
   "cell_type": "code",
   "execution_count": 11,
   "metadata": {},
   "outputs": [],
   "source": [
    "def hash_function(s):\n",
    "    hashval = np.uint32(0)\n",
    "    \n",
    "    for element in s:\n",
    "        hashval = ord(element) + 31 * hashval\n",
    "        \n",
    "    return hashval % 101"
   ]
  },
  {
   "cell_type": "code",
   "execution_count": 12,
   "metadata": {},
   "outputs": [
    {
     "name": "stdout",
     "output_type": "stream",
     "text": [
      "Hash: 70 \n",
      "\n"
     ]
    }
   ],
   "source": [
    "print(\"Hash:\", hash_function(\"abcde\"), \"\\n\")"
   ]
  },
  {
   "cell_type": "markdown",
   "metadata": {},
   "source": [
    "## Task 3: SHA-256 Padding\n",
    "\n",
    "### Objective\n",
    "\n",
    "Write a Python function that calculates and displays the SHA-256 padding for the contents of a given file. The function should take a file path as input and output the resulting padding bytes in hexadecimal format.\n",
    "\n",
    "---\n",
    "\n",
    "### Background: What Is SHA-256 Padding?\n",
    "\n",
    "[FIPS 180-4, Secure Hash Standard (SHS).](https://csrc.nist.gov/pubs/fips/180-4/upd1/final)  \n",
    "SHA-256 operates on 512-bit blocks, so messages must be padded to a length that is a multiple of 512 bits. The padding process follows a specific sequence defined by the SHA-2 specification:\n",
    "\n",
    "#### Padding Steps\n",
    "\n",
    "Given a message of any length:\n",
    "1. **Append a single `1` bit** (expressed as the byte `0x80`).\n",
    "2. **Append `0` bits** (i.e., `0x00` bytes) until the length of the message (in bits) is congruent to `448 mod 512`. This leaves 64 bits at the end.\n",
    "3. **Append the original message length in bits** as a 64-bit big-endian unsigned integer.\n",
    "\n",
    "As a result, the total message length (including padding) will be a multiple of 512 bits (or 64 bytes).\n",
    "\n",
    "---\n",
    "\n",
    "### Example: Padding for the String `\"abc\"`\n",
    "\n",
    "If the input file contains just three bytes representing the ASCII characters `a`, `b`, and `c`:\n",
    "\n",
    "```\n",
    "01100001 01100010 01100011\n",
    "```\n",
    "\n",
    "That is, in hexadecimal:\n",
    "\n",
    "```\n",
    "61 62 63\n",
    "```\n",
    "\n",
    "The padding that would be appended is:\n",
    "\n",
    "```\n",
    "80 00 00 00 00 00 00 00 00 00 00 00 00 00 00 00 \n",
    "00 00 00 00 00 00 00 00 00 00 00 00 00 00 00 00 \n",
    "00 00 00 00 00 00 00 00 00 00 00 00 00 00 00 00 \n",
    "00 00 00 00 00 00 00 00 00 00 00 00 00 00 00 18\n",
    "```\n",
    "\n",
    "Explanation:\n",
    "- The `0x80` represents the `1` bit required at the start of the padding.\n",
    "- `0x00` bytes are added until the total length (including padding and length field) reaches a multiple of 512 bits.\n",
    "- The final byte `0x18` represents `24` bits (the length of `\"abc\"` in bits), encoded as a 64-bit big-endian integer.\n",
    "\n",
    "---\n",
    "\n",
    "### Output Format\n",
    "\n",
    "The function should return a string containing the padding bytes in **uppercase hexadecimal**, separated by spaces, as shown above."
   ]
  },
  {
   "cell_type": "code",
   "execution_count": 13,
   "metadata": {},
   "outputs": [],
   "source": [
    "def calculate_file_sha_padding(file_path):\n",
    "    with open(file_path, 'rb') as file:\n",
    "        content = file.read()\n",
    "\n",
    "    message_length = len(content) * 8  # Length in bits\n",
    "\n",
    "    padding = b'\\x80'\n",
    "\n",
    "    # Add zero padding until the total length is 448 mod 512\n",
    "    while (message_length + len(padding) * 8 + 64) % 512 != 0:\n",
    "        padding += b'\\x00'\n",
    "\n",
    "    # Append original message length as a 64-bit integer\n",
    "    padding += message_length.to_bytes(8, byteorder=\"big\")\n",
    "\n",
    "    # Convert to space-separated hex format\n",
    "    hex_output = ' '.join(f\"{byte:02X}\" for byte in padding)\n",
    "\n",
    "    return hex_output"
   ]
  },
  {
   "cell_type": "code",
   "execution_count": 14,
   "metadata": {},
   "outputs": [
    {
     "data": {
      "text/plain": [
       "'80 00 00 00 00 00 00 00 00 00 00 00 00 00 00 00 00 00 00 00 00 00 00 00 00 00 00 00 00 00 00 00 00 00 00 00 00 00 00 00 00 00 00 00 00 00 00 00 00 00 00 00 00 00 00 00 00 00 00 00 18'"
      ]
     },
     "execution_count": 14,
     "metadata": {},
     "output_type": "execute_result"
    }
   ],
   "source": [
    "calculate_file_sha_padding(\"task_resources/sha_test_file.txt\")"
   ]
  },
  {
   "cell_type": "markdown",
   "metadata": {},
   "source": [
    "## Task 4: Calculating Prime Numbers Using Two Methods\n",
    "\n",
    "### Objective\n",
    "\n",
    "The goal of this task is to implement and compare two algorithms for generating prime numbers. The goal is to generate the first 100 prime numbers:\n",
    "\n",
    "1. **Trial Division** – a straightforward method based on checking divisibility.\n",
    "2. **Wilson’s Theorem** – an approach based on factorials.\n",
    "\n",
    "---\n",
    "\n",
    "### Key Concepts\n",
    "\n",
    "#### Prime Numbers\n",
    "A prime number is a natural number greater than 1 that has no positive divisors other than 1 and itself.\n",
    "\n",
    "---\n",
    "\n",
    "#### Trial Division\n",
    "https://en.wikipedia.org/wiki/Trial_division  \n",
    "- **Method**: Check each number by attempting to divide it by all smaller integers (excluding itself).\n",
    "- **Complexity**: Time-consuming for large numbers, especially without optimization (like checking up to √n).\n",
    "\n",
    "---\n",
    "\n",
    "#### Wilson’s Theorem\n",
    "https://www.britannica.com/science/Wilsons-theorem  \n",
    "https://en.wikipedia.org/wiki/Wilson%27s_theorem\n",
    "\n",
    "- **Theorem**: A number \\( p > 1 \\) is prime if and only if: $$ (p - 1)! \\equiv -1 \\pmod{p} $$\n",
    "- **Method**: Use factorials and modulo arithmetic to check if numbers are primes.\n",
    "- **Complexity**: Very slow and memory-intensive for large \\( p \\) due to factorial growth.\n",
    "\n",
    "---\n",
    "\n",
    "\n",
    "### Task Workflow\n",
    "\n",
    "- Implement both methods as Python functions.\n",
    "- Use them to compute the first `N` prime numbers.\n",
    "- Compare and discuss their relative performance and mathematical elegance.\n",
    "\n",
    "---\n",
    "\n",
    "### Input\n",
    "\n",
    "- An integer `N` representing how many prime numbers to generate (default is 100).\n",
    "\n",
    "### Output\n",
    "\n",
    "- A list of the first `N` prime numbers calculated using each method."
   ]
  },
  {
   "cell_type": "markdown",
   "metadata": {},
   "source": [
    "### Trial Division Method\n",
    "\n",
    "This method determines whether a given number is prime by checking for divisibility with all smaller integers, excluding one and the number itself.\n",
    "\n",
    "Although not optimised for performance, trial division is a simple and accessible way to understand basic prime number testing."
   ]
  },
  {
   "cell_type": "markdown",
   "metadata": {},
   "source": [
    "#### Step 1: Specify the Number of Primes to Generate\n",
    "\n",
    "We begin by setting a target for how many prime numbers to generate using trial division."
   ]
  },
  {
   "cell_type": "code",
   "execution_count": 15,
   "metadata": {},
   "outputs": [],
   "source": [
    "# Number of primes to generate\n",
    "primes_to_calculate = 100"
   ]
  },
  {
   "cell_type": "markdown",
   "metadata": {},
   "source": [
    "#### Step 2: Initialise Variables\n",
    "\n",
    "We initialise an empty list of prime numbers, and set the start value to 0."
   ]
  },
  {
   "cell_type": "code",
   "execution_count": 16,
   "metadata": {},
   "outputs": [],
   "source": [
    "# Start with an empty list of prime numbers\n",
    "prime_numbers = []\n",
    "\n",
    "# Start checking from 0\n",
    "current_number = 0"
   ]
  },
  {
   "cell_type": "markdown",
   "metadata": {},
   "source": [
    "#### Step 3: Perform Trial Division\n",
    "\n",
    "For each candidate number, we check whether it is divisible by any smaller integer (excluding itself).\n",
    "If it is not divisible by any such number, it is prime."
   ]
  },
  {
   "cell_type": "code",
   "execution_count": 17,
   "metadata": {},
   "outputs": [],
   "source": [
    "# Continue checking numbers until we have the desired number of prime numbers\n",
    "while len(prime_numbers) < primes_to_calculate:\n",
    "    is_prime = True  # Assume the current number is prime unless proven otherwise\n",
    "\n",
    "    # Check for divisibility by all integers from 2 up to the current number\n",
    "    for i in range(2, current_number + 1):\n",
    "        # If current_number is divisible by i (and not equal to i itself), it's not prime\n",
    "        if current_number % i == 0 and current_number != i:\n",
    "            is_prime = False  # Mark as not prime\n",
    "            break  # Exit the loop early since we've found a divisor\n",
    "\n",
    "    # If no divisors were found, the number is prime\n",
    "    if is_prime:\n",
    "        prime_numbers.append(current_number)  # Add it to the list of primes\n",
    "\n",
    "    # Move on to the next number to check\n",
    "    current_number += 1"
   ]
  },
  {
   "cell_type": "markdown",
   "metadata": {},
   "source": [
    "#### Step 4: Display the Result\n",
    "\n",
    "We print the list of prime numbers generated using the trial division method."
   ]
  },
  {
   "cell_type": "code",
   "execution_count": 18,
   "metadata": {},
   "outputs": [
    {
     "name": "stdout",
     "output_type": "stream",
     "text": [
      "Primes using Trial Division: [0, 1, 2, 3, 5, 7, 11, 13, 17, 19, 23, 29, 31, 37, 41, 43, 47, 53, 59, 61, 67, 71, 73, 79, 83, 89, 97, 101, 103, 107, 109, 113, 127, 131, 137, 139, 149, 151, 157, 163, 167, 173, 179, 181, 191, 193, 197, 199, 211, 223, 227, 229, 233, 239, 241, 251, 257, 263, 269, 271, 277, 281, 283, 293, 307, 311, 313, 317, 331, 337, 347, 349, 353, 359, 367, 373, 379, 383, 389, 397, 401, 409, 419, 421, 431, 433, 439, 443, 449, 457, 461, 463, 467, 479, 487, 491, 499, 503, 509, 521]\n"
     ]
    }
   ],
   "source": [
    "print(\"Primes using Trial Division:\", prime_numbers)"
   ]
  },
  {
   "cell_type": "markdown",
   "metadata": {},
   "source": [
    "#### Trial Division as a function\n",
    "Does the same as the earlier code, but in a function so it can be used for Task 5"
   ]
  },
  {
   "cell_type": "code",
   "execution_count": 19,
   "metadata": {},
   "outputs": [],
   "source": [
    "def calculate_prime_numbers_trial_division(primes_to_calculate):\n",
    "    \n",
    "    # Initialise the list to hold prime numbers\n",
    "    prime_numbers = []\n",
    "\n",
    "    # Start checking from 0 (though this will be skipped as not prime)\n",
    "    current_number = 0\n",
    "\n",
    "    # Continue until we have the desired number of primes\n",
    "    while len(prime_numbers) < primes_to_calculate:\n",
    "        is_prime = True  # Assume the current number is prime\n",
    "\n",
    "        # Check divisibility from 2 up to current_number\n",
    "        for i in range(2, current_number + 1):\n",
    "            # If divisible by i (and not equal to i), it's not prime\n",
    "            if current_number % i == 0 and current_number != i:\n",
    "                is_prime = False\n",
    "                break  # Exit early if a divisor is found\n",
    "\n",
    "        # If no divisors found and number is >= 2, it's prime\n",
    "        if is_prime and current_number >= 2:\n",
    "            prime_numbers.append(current_number)\n",
    "\n",
    "        # Move to the next number\n",
    "        current_number += 1\n",
    "\n",
    "    # Return the list of prime numbers\n",
    "    return prime_numbers"
   ]
  },
  {
   "cell_type": "markdown",
   "metadata": {},
   "source": [
    "### Wilson’s Theorem Method\n",
    "\n",
    "Wilson’s Theorem provides a mathematical condition for finding prime numbers:\n",
    "\n",
    "A number `n > 1` is prime if and only if:\n",
    "\n",
    "    (n - 1)! mod n == n - 1\n",
    "\n",
    "This approach uses factorials and modular arithmetic to find prime numbers.  \n",
    "Although computationally inefficient for large numbers, Wilson’s Theorem is a method to discover prime numbers."
   ]
  },
  {
   "cell_type": "markdown",
   "metadata": {},
   "source": [
    "#### Step 1: Specify the Number of Primes to Generate\n",
    "\n",
    "We begin by setting a target for how many prime numbers to generate using trial division."
   ]
  },
  {
   "cell_type": "code",
   "execution_count": 20,
   "metadata": {},
   "outputs": [],
   "source": [
    "# Number of primes to generate\n",
    "primes_to_calculate = 100"
   ]
  },
  {
   "cell_type": "markdown",
   "metadata": {},
   "source": [
    "#### Step 2: Initialise Variables\n",
    "\n",
    "We initialise an empty list of prime numbers, and set the start value to 2 (Wilson’s Theorem applies only for n > 1)."
   ]
  },
  {
   "cell_type": "code",
   "execution_count": 21,
   "metadata": {},
   "outputs": [],
   "source": [
    "# Start with an empty list of prime numbers\n",
    "prime_numbers = []\n",
    "\n",
    "# Start checking from 2 (Wilson’s Theorem applies only for n > 1)\n",
    "current_number = 2"
   ]
  },
  {
   "cell_type": "markdown",
   "metadata": {},
   "source": [
    "#### Step 4: Apply Wilson’s Theorem\n",
    "\n",
    "For each number, we apply the Wilson’s Theorem condition to determine whether it is prime."
   ]
  },
  {
   "cell_type": "code",
   "execution_count": 22,
   "metadata": {},
   "outputs": [],
   "source": [
    "# Generate prime numbers using Wilson's Theorem\n",
    "while len(prime_numbers) < primes_to_calculate:\n",
    "    \n",
    "    # Apply Wilson's Theorem:\n",
    "    # A number n > 1 is prime if (n - 1)! % n == n - 1\n",
    "    if math.factorial(current_number - 1) % current_number == current_number - 1:\n",
    "        # If the condition holds, current_number is prime\n",
    "        prime_numbers.append(current_number)\n",
    "    \n",
    "    # Move to the next number\n",
    "    current_number += 1"
   ]
  },
  {
   "cell_type": "markdown",
   "metadata": {},
   "source": [
    "#### Step 5: Display the Result\n",
    "\n",
    "We print the list of prime numbers obtained using Wilson’s Theorem."
   ]
  },
  {
   "cell_type": "code",
   "execution_count": 23,
   "metadata": {},
   "outputs": [
    {
     "name": "stdout",
     "output_type": "stream",
     "text": [
      "Primes using Wilson’s Theorem: [2, 3, 5, 7, 11, 13, 17, 19, 23, 29, 31, 37, 41, 43, 47, 53, 59, 61, 67, 71, 73, 79, 83, 89, 97, 101, 103, 107, 109, 113, 127, 131, 137, 139, 149, 151, 157, 163, 167, 173, 179, 181, 191, 193, 197, 199, 211, 223, 227, 229, 233, 239, 241, 251, 257, 263, 269, 271, 277, 281, 283, 293, 307, 311, 313, 317, 331, 337, 347, 349, 353, 359, 367, 373, 379, 383, 389, 397, 401, 409, 419, 421, 431, 433, 439, 443, 449, 457, 461, 463, 467, 479, 487, 491, 499, 503, 509, 521, 523, 541]\n"
     ]
    }
   ],
   "source": [
    "print(\"Primes using Wilson’s Theorem:\", prime_numbers)"
   ]
  },
  {
   "cell_type": "markdown",
   "metadata": {},
   "source": [
    "## Task 5: Roots\n",
    "\n",
    "### Objective\n",
    "\n",
    "[FIPS 180-4, Secure Hash Standard (SHS).](https://csrc.nist.gov/pubs/fips/180-4/upd1/final)  \n",
    "\n",
    "This task involves computing the first 32 bits of the fractional part of the square roots of the first 100 prime numbers.\n",
    "\n",
    "Each step involves:\n",
    "- Computing the square root of a prime.\n",
    "- Extracting the fractional part.\n",
    "- Scaling it to a 32-bit integer.\n",
    "- Converting the result into a binary representation."
   ]
  },
  {
   "cell_type": "markdown",
   "metadata": {},
   "source": [
    "### Step 1: Generate the First 100 Prime Numbers\n",
    "\n",
    "We use trial division function from earlier to find the first 100 primes."
   ]
  },
  {
   "cell_type": "code",
   "execution_count": 24,
   "metadata": {},
   "outputs": [],
   "source": [
    "# Get the first 100 prime numbers\n",
    "primes = calculate_prime_numbers_trial_division(100)"
   ]
  },
  {
   "cell_type": "markdown",
   "metadata": {},
   "source": [
    "### Step 2: Calculate 32-bit Fractional Parts of Square Roots\n",
    "\n",
    "In this step, we process each of the first 100 prime numbers as follows (discussed in [FIPS 180-4, Secure Hash Standard (SHS).](https://csrc.nist.gov/pubs/fips/180-4/upd1/final)):\n",
    "\n",
    "1. **Compute the square root** of the prime using `math.sqrt()`.\n",
    "2. **Isolate the fractional part** by subtracting the floor of the square root.  \n",
    "   For example, if √5 ≈ 2.236, then the fractional part is ≈ 0.236.\n",
    "3. **Scale the fractional part** by multiplying it by \\(2^{32}\\) (i.e., `1 << 32`), converting it into a 32-bit fixed-point representation.\n",
    "4. **Convert the result to binary**, ensuring it is padded to exactly 32 bits using `format(..., '032b')`.\n",
    "\n",
    "The result for each prime is stored as a 32-character binary string in the list `fractional_bits_of_primes`."
   ]
  },
  {
   "cell_type": "code",
   "execution_count": 25,
   "metadata": {},
   "outputs": [],
   "source": [
    "fractional_bits_of_primes = []\n",
    "\n",
    "for prime in primes:\n",
    "    square_root = math.sqrt(prime)  # Compute square root\n",
    "\n",
    "    fractional_part = square_root - math.floor(square_root)  # Extract fractional part\n",
    "\n",
    "    fractional_scaled = int(fractional_part * (1 << 32))  # Scale to 32-bit integer\n",
    "\n",
    "    binary_representation = format(fractional_scaled, '032b')  # Format as 32-bit binary string\n",
    "\n",
    "    fractional_bits_of_primes.append(binary_representation)"
   ]
  },
  {
   "cell_type": "markdown",
   "metadata": {},
   "source": [
    "### Step 3: Display the Results\n",
    "\n",
    "Print the binary representations of the 32-bit fractional parts of the square roots."
   ]
  },
  {
   "cell_type": "code",
   "execution_count": 26,
   "metadata": {},
   "outputs": [
    {
     "name": "stdout",
     "output_type": "stream",
     "text": [
      "Prime:   2 → Fractional Bits: 01101010000010011110011001100111\n",
      "Prime:   3 → Fractional Bits: 10111011011001111010111010000101\n",
      "Prime:   5 → Fractional Bits: 00111100011011101111001101110010\n",
      "Prime:   7 → Fractional Bits: 10100101010011111111010100111010\n",
      "Prime:  11 → Fractional Bits: 01010001000011100101001001111111\n",
      "Prime:  13 → Fractional Bits: 10011011000001010110100010001100\n",
      "Prime:  17 → Fractional Bits: 00011111100000111101100110101011\n",
      "Prime:  19 → Fractional Bits: 01011011111000001100110100011001\n",
      "Prime:  23 → Fractional Bits: 11001011101110111001110101011101\n",
      "Prime:  29 → Fractional Bits: 01100010100110100010100100101010\n",
      "Prime:  31 → Fractional Bits: 10010001010110010000000101011010\n",
      "Prime:  37 → Fractional Bits: 00010101001011111110110011011000\n",
      "Prime:  41 → Fractional Bits: 01100111001100110010011001100111\n",
      "Prime:  43 → Fractional Bits: 10001110101101000100101010000111\n",
      "Prime:  47 → Fractional Bits: 11011011000011000010111000001101\n",
      "Prime:  53 → Fractional Bits: 01000111101101010100100000011101\n",
      "Prime:  59 → Fractional Bits: 10101110010111111001000101010110\n",
      "Prime:  61 → Fractional Bits: 11001111011011001000010111010011\n",
      "Prime:  67 → Fractional Bits: 00101111011100110100011101111101\n",
      "Prime:  71 → Fractional Bits: 01101101000110000010011011001010\n",
      "Prime:  73 → Fractional Bits: 10001011010000111101010001010111\n",
      "Prime:  79 → Fractional Bits: 11100011011000001011010110010110\n",
      "Prime:  83 → Fractional Bits: 00011100010001010110000000000010\n",
      "Prime:  89 → Fractional Bits: 01101111000110010110001100110001\n",
      "Prime:  97 → Fractional Bits: 11011001010011101011111010110001\n",
      "Prime: 101 → Fractional Bits: 00001100110001001010011000010001\n",
      "Prime: 103 → Fractional Bits: 00100110000111011100000111110010\n",
      "Prime: 107 → Fractional Bits: 01011000000101011010011110111110\n",
      "Prime: 109 → Fractional Bits: 01110000101101111110110101100111\n",
      "Prime: 113 → Fractional Bits: 10100001010100010011110001101001\n",
      "Prime: 127 → Fractional Bits: 01000100111110010011011000110101\n",
      "Prime: 131 → Fractional Bits: 01110010000011011100110111111101\n",
      "Prime: 137 → Fractional Bits: 10110100011001110011011010011110\n",
      "Prime: 139 → Fractional Bits: 11001010001100100000101101110101\n",
      "Prime: 149 → Fractional Bits: 00110100111000001101010000101110\n",
      "Prime: 151 → Fractional Bits: 01001001110001111101100110111101\n",
      "Prime: 157 → Fractional Bits: 10000111101010111011100111110010\n",
      "Prime: 163 → Fractional Bits: 11000100011000111010001011111100\n",
      "Prime: 167 → Fractional Bits: 11101100001111111100001111110011\n",
      "Prime: 173 → Fractional Bits: 00100111001001110111111101101101\n",
      "Prime: 179 → Fractional Bits: 01100001000010111110101111110010\n",
      "Prime: 181 → Fractional Bits: 01110100001000001011010010011110\n",
      "Prime: 191 → Fractional Bits: 11010001111111011000101000110011\n",
      "Prime: 193 → Fractional Bits: 11100100011101110011010110010100\n",
      "Prime: 197 → Fractional Bits: 00001001001000011001011111110110\n",
      "Prime: 199 → Fractional Bits: 00011011010100110000110010010101\n",
      "Prime: 211 → Fractional Bits: 10000110100111010110001101000010\n",
      "Prime: 223 → Fractional Bits: 11101110111001010010111001001111\n",
      "Prime: 227 → Fractional Bits: 00010001000001110110011010001001\n",
      "Prime: 229 → Fractional Bits: 00100001111110111010001101111011\n",
      "Prime: 233 → Fractional Bits: 01000011101010111001111110110110\n",
      "Prime: 239 → Fractional Bits: 01110101101010011111100100011101\n",
      "Prime: 241 → Fractional Bits: 10000110001100000101000000011001\n",
      "Prime: 251 → Fractional Bits: 11010111110011011000000101110011\n",
      "Prime: 257 → Fractional Bits: 00000111111111100000000011111111\n",
      "Prime: 263 → Fractional Bits: 00110111100111110101000100111111\n",
      "Prime: 269 → Fractional Bits: 01100110101101100101000110101000\n",
      "Prime: 271 → Fractional Bits: 01110110010010101011100001000010\n",
      "Prime: 277 → Fractional Bits: 10100100101100000110101111100001\n",
      "Prime: 281 → Fractional Bits: 11000011010101111000110000010101\n",
      "Prime: 283 → Fractional Bits: 11010010100101100010101001010011\n",
      "Prime: 293 → Fractional Bits: 00011110000000111001111101000000\n",
      "Prime: 307 → Fractional Bits: 10000101011110110111101111101110\n",
      "Prime: 311 → Fractional Bits: 10100010100110111111001011011110\n",
      "Prime: 313 → Fractional Bits: 10110001000110100011001011101000\n",
      "Prime: 317 → Fractional Bits: 11001101111100110100111010000000\n",
      "Prime: 331 → Fractional Bits: 00110001100000110000010000100110\n",
      "Prime: 337 → Fractional Bits: 01011011100010010000100100101011\n",
      "Prime: 347 → Fractional Bits: 10100000110000000110101000010011\n",
      "Prime: 349 → Fractional Bits: 10101110011110011000010000101111\n",
      "Prime: 353 → Fractional Bits: 11001001110011011010011010001001\n",
      "Prime: 359 → Fractional Bits: 11110010100000011111001000111001\n",
      "Prime: 367 → Fractional Bits: 00101000010000010010010110010010\n",
      "Prime: 373 → Fractional Bits: 01010000001011100110010011011011\n",
      "Prime: 379 → Fractional Bits: 01110111110010011100001000010001\n",
      "Prime: 383 → Fractional Bits: 10010010000001001100110110011101\n",
      "Prime: 389 → Fractional Bits: 10111001000110111111011001100011\n",
      "Prime: 397 → Fractional Bits: 11101100110000111000110010011101\n",
      "Prime: 401 → Fractional Bits: 00000110011001010110000010010101\n",
      "Prime: 409 → Fractional Bits: 00111001010001111001001110000001\n",
      "Prime: 419 → Fractional Bits: 01111000001100000111011010010111\n",
      "Prime: 421 → Fractional Bits: 10000100101011100100101101111100\n",
      "Prime: 431 → Fractional Bits: 11000010101100101011011101010101\n",
      "Prime: 433 → Fractional Bits: 11001111000000111101001000001110\n",
      "Prime: 439 → Fractional Bits: 11110011110010111011000100010111\n",
      "Prime: 443 → Fractional Bits: 00001100001011010011101101001011\n",
      "Prime: 449 → Fractional Bits: 00110000100010101111000101100001\n",
      "Prime: 457 → Fractional Bits: 01100000101001111010100110011000\n",
      "Prime: 461 → Fractional Bits: 01111000100011011001100000010010\n",
      "Prime: 463 → Fractional Bits: 10000100011101101001101101000010\n",
      "Prime: 467 → Fractional Bits: 10011100001101001111000001100010\n",
      "Prime: 479 → Fractional Bits: 11100010110101010110010011000100\n",
      "Prime: 487 → Fractional Bits: 00010001011011010111010111111101\n",
      "Prime: 491 → Fractional Bits: 00101000100101001100000100000111\n",
      "Prime: 499 → Fractional Bits: 01010110100110110101100011000110\n",
      "Prime: 503 → Fractional Bits: 01101101011110110011100100111001\n",
      "Prime: 509 → Fractional Bits: 10001111100111111000110110111011\n",
      "Prime: 521 → Fractional Bits: 11010011010011110000001111001101\n",
      "Prime: 523 → Fractional Bits: 11011110100000110111001011101111\n",
      "Prime: 541 → Fractional Bits: 01000010011010000111101000111001\n"
     ]
    }
   ],
   "source": [
    "for i, bits in enumerate(fractional_bits_of_primes):\n",
    "    print(f\"Prime: {primes[i]:3d} → Fractional Bits: {bits}\")"
   ]
  },
  {
   "cell_type": "markdown",
   "metadata": {},
   "source": [
    "## Task 6: Proof of Work with English Words and SHA-256\n",
    "\n",
    "https://en.wikipedia.org/wiki/Proof_of_work  \n",
    "### Objective\n",
    "\n",
    "In this task, we simulate a simplified proof-of-work mechanism using a list of English words. The goal is to analyse the SHA-256 hashes of words and identify which word(s) produce hashes with the most leading zeros in their binary representation.\n",
    "\n",
    "---\n",
    "\n",
    "### Key Concepts\n",
    "\n",
    "- **SHA-256**: A cryptographic hash function that produces a 256-bit (64-character hexadecimal) digest from any input.\n",
    "- **Binary Representation**: Hexadecimal hashes are converted to 256-bit binary strings for bit-level analysis.\n",
    "- **Leading Zeros**: The number of consecutive zeros at the beginning of a binary hash — used as a proxy for \"mining difficulty\" in our simulation.\n",
    "- **Proof of Work (PoW)**: A concept from blockchain where computational effort is proven by finding an input that results in a hash with a specified pattern (e.g., many leading zeros).\n",
    "\n",
    "---\n",
    "\n",
    "### Task Workflow\n",
    "\n",
    "1. **Load a list of English words** from a local text file (e.g., from [dwyl/english-words GitHub repository](https://github.com/dwyl/english-words)).\n",
    "2. **Compute the SHA-256 hash** of each word.\n",
    "3. **Convert each hash to binary** and count the number of leading zeros.\n",
    "4. **Identify and return** the word(s) that result in the highest number of leading zeros.\n",
    "\n",
    "---\n",
    "\n",
    "### Input\n",
    "\n",
    "- A `.txt` file containing a list of English words.\n",
    "\n",
    "### Output\n",
    "\n",
    "- A dictionary containing the word(s) with the highest number of leading zeros in their hash.\n",
    "- The maximum number of leading zeros found.\n",
    "- The total count of words with the highest number of leading zeros in their hash."
   ]
  },
  {
   "cell_type": "markdown",
   "metadata": {},
   "source": [
    "### Step 1: Load Word List from File\n",
    "\n",
    "We start by loading a plain text file that contains a list of English words. This file can be downloaded from resources such as the [dwyl/english-words GitHub repository](https://github.com/dwyl/english-words).\n",
    "\n",
    "Each word will be read into a Python string and stored in a list for further processing.\n",
    "\n",
    "- `file.read()` reads the entire file into a single string.\n",
    "- `split()` breaks this string into a list of individual words based on whitespace."
   ]
  },
  {
   "cell_type": "markdown",
   "metadata": {},
   "source": [
    "#### Step 1a: Specify the File Path\n",
    "\n",
    "Define the path to the word list file. This should point to a `.txt` file containing English words, one per line or space-separated."
   ]
  },
  {
   "cell_type": "code",
   "execution_count": 27,
   "metadata": {},
   "outputs": [],
   "source": [
    "# Define the path to the file\n",
    "file_path = \"task_resources/words.txt\""
   ]
  },
  {
   "cell_type": "markdown",
   "metadata": {},
   "source": [
    "#### Step 1b: Read the File Contents\n",
    "\n",
    "Open the file and read all its contents into a single string.  \n",
    "Convert all words to lowercase for consistency. The case of the characters will make a difference in calculating the hash.  \n",
    "Optionally, you can convert the string to uppercase."
   ]
  },
  {
   "cell_type": "code",
   "execution_count": 28,
   "metadata": {},
   "outputs": [
    {
     "name": "stdout",
     "output_type": "stream",
     "text": [
      "First 10 words in file:\n",
      "a\n",
      "aa\n",
      "aaa\n",
      "aah\n",
      "aahed\n",
      "aahing\n",
      "aahs\n",
      "aal\n",
      "aalii\n",
      "aaliis\n",
      "aals\n",
      "aam\n",
      "aani\n",
      "aardvark\n",
      "aardvarks\n",
      "aardwolf\n",
      "aardwolves\n"
     ]
    }
   ],
   "source": [
    "# Read and load the file content into a string\n",
    "with open(file_path, 'r') as file:\n",
    "    content = file.read()\n",
    "    content = content.lower() # Convert to lowercase for consistency\n",
    "    # content = content.upper() # Uncomment to convert to uppercase\n",
    "\n",
    "    print(\"First 10 words in file:\")\n",
    "    print(content[:100])"
   ]
  },
  {
   "cell_type": "markdown",
   "metadata": {},
   "source": [
    "#### Step 1c: Split Contents into Words\n",
    "\n",
    "Break the string into a list of words using whitespace as the delimiter.  \n",
    "This will prepare the data for hashing in the next steps."
   ]
  },
  {
   "cell_type": "code",
   "execution_count": 29,
   "metadata": {},
   "outputs": [
    {
     "name": "stdout",
     "output_type": "stream",
     "text": [
      "Total Words:  370105\n"
     ]
    }
   ],
   "source": [
    "# Split the content into individual words\n",
    "words = content.split()\n",
    "print(\"Total Words: \", len(words))"
   ]
  },
  {
   "cell_type": "markdown",
   "metadata": {},
   "source": [
    "### Step 2: Compute SHA-256 Hash for Each Word\n",
    "\n",
    "Next, we compute the SHA-256 hash for every word in the list using the python hashlib library https://docs.python.org/3/library/hashlib.html\n",
    "\n",
    "- SHA-256 is a cryptographic hash function from the SHA-2 family.\n",
    "- It produces a fixed-size 256-bit (64 hex character) output regardless of input size.\n",
    "- We then convert the hex output to a binary string of exactly 256 bits to allow for bitwise analysis."
   ]
  },
  {
   "cell_type": "code",
   "execution_count": 30,
   "metadata": {},
   "outputs": [],
   "source": [
    "word_shas = []\n",
    "\n",
    "for word in words:\n",
    "    # Compute the SHA-256 hash in hexadecimal format\n",
    "    word_sha = hashlib.sha256(word.encode()).hexdigest()\n",
    "    \n",
    "    # Convert the hexadecimal hash to a 256-bit binary string\n",
    "    word_sha_binary = bin(int(word_sha, 16))[2:].zfill(256)\n",
    "    \n",
    "    # Store the binary string version of the hash\n",
    "    word_shas.append(word_sha_binary)"
   ]
  },
  {
   "cell_type": "markdown",
   "metadata": {},
   "source": [
    "### Step 3: Identify Words with Most Leading Zeros in Hash\n",
    "\n",
    "We now implement a basic \"proof-of-work\" simulation.\n",
    "\n",
    "**Goal:**  \n",
    "Find the word(s) whose SHA-256 binary hash starts with the most consecutive zeros.\n",
    "\n",
    "Steps:\n",
    "1. Count the number of leading zeros for each hash.\n",
    "2. Track the maximum number of zeros seen so far.\n",
    "3. Keep all words that match this max count."
   ]
  },
  {
   "cell_type": "code",
   "execution_count": 31,
   "metadata": {},
   "outputs": [],
   "source": [
    "words_with_most_zeros = {}\n",
    "most_zeros = -1\n",
    "\n",
    "for i, word_sha in enumerate(word_shas):\n",
    "    number_of_zeros = 0\n",
    "    \n",
    "    # Count the number of consecutive '0's from the start of the binary hash\n",
    "    for char in word_sha:\n",
    "        if char == \"0\":\n",
    "            number_of_zeros += 1\n",
    "        else:\n",
    "            break\n",
    "    \n",
    "    # Update dictionary if this word matches or exceeds the current max\n",
    "    if number_of_zeros >= most_zeros:\n",
    "        if number_of_zeros > most_zeros:\n",
    "            most_zeros = number_of_zeros\n",
    "            words_with_most_zeros.clear()  # Clear previous entries if new max found\n",
    "        \n",
    "        # Add the word and its binary hash to the dictionary\n",
    "        words_with_most_zeros[words[i]] = word_sha"
   ]
  },
  {
   "cell_type": "markdown",
   "metadata": {},
   "source": [
    "### Step 4: Output Results\n",
    "\n",
    "Now we print the results:\n",
    "\n",
    "- The total number of words that share the highest number of leading zeros.\n",
    "- The maximum number of leading zeros found.\n",
    "- A dictionary of those words and their corresponding binary hashes."
   ]
  },
  {
   "cell_type": "code",
   "execution_count": 32,
   "metadata": {},
   "outputs": [
    {
     "name": "stdout",
     "output_type": "stream",
     "text": [
      "Number of words with most leading zeros: 1\n",
      "Most leading zeros found: 18\n",
      "\n",
      "Word(s) with most leading zeros and their binary: {'goaltenders': '0000000000000000001011100110100011001001110100111101000111111100010111010011000101111000101111101110100100010000010000001110111110111110101101001010110010011110101001110111001000101100100000110100111110100101110101110001101100101110001110000100010111001101'}\n"
     ]
    }
   ],
   "source": [
    "print(\"Number of words with most leading zeros:\", len(words_with_most_zeros))\n",
    "print(\"Most leading zeros found:\", most_zeros)\n",
    "\n",
    "print(\"\\nWord(s) with most leading zeros and their binary:\", words_with_most_zeros)"
   ]
  },
  {
   "cell_type": "markdown",
   "metadata": {},
   "source": [
    "## Task 7: Turing Machines – Binary Increment\n",
    "\n",
    "https://www.geeksforgeeks.org/turing-machine-in-toc/  \n",
    "https://www.britannica.com/technology/Turing-machine  \n",
    "https://en.wikipedia.org/wiki/Turing_machine  \n",
    "\n",
    "### Objective\n",
    "\n",
    "The goal of this task is to simulate a basic Turing Machine that performs binary addition.  \n",
    "Specifically, the machine will increment a binary number by 1.\n",
    "\n",
    "#### Key Characteristics:\n",
    "- The binary input is on a tape, with the least significant bit (LSB) on the right.\n",
    "- The Turing Machine begins at the left-most non-blank symbol.\n",
    "- The machine halts when the increment is complete.\n",
    "\n",
    "#### Example:\n",
    "\n",
    "**Input Tape:**  \n",
    "`100111` → Represents the number 39 in binary.\n",
    "\n",
    "**Output Tape:**  \n",
    "`101000` → Represents the number 40 in binary.\n"
   ]
  },
  {
   "cell_type": "markdown",
   "metadata": {},
   "source": [
    "### Step 1: Define the Blank Symbol\n",
    "\n",
    "We use `_` to represent blank spaces on the Turing Machine tape."
   ]
  },
  {
   "cell_type": "code",
   "execution_count": 33,
   "metadata": {},
   "outputs": [],
   "source": [
    "# Blank symbol representing empty tape cells\n",
    "b = '_'"
   ]
  },
  {
   "cell_type": "markdown",
   "metadata": {},
   "source": [
    "### Step 2: Define the Turing Machine Transition Table\n",
    "\n",
    "This table defines how the Turing Machine transitions between states based on the current symbol.  \n",
    "https://en.wikipedia.org/wiki/State-transition_table\n",
    "\n",
    "#### States:\n",
    "- `MOVE_RIGHT`: Move right to find the end of the number.\n",
    "- `CARRY`: Perform binary addition with carry handling.\n",
    "- `FINISH`: Halt state once the operation is complete.\n",
    "\n",
    "Each entry has the form:  \n",
    "`(current_state, symbol) → (next_state, new_symbol, direction)`  \n",
    "\n",
    "If the head finishing at the start was a requirement, an extra state (e.g. MOVE_LEFT) would need to be added, which would move to the left until the start was found before entering the FINISH state."
   ]
  },
  {
   "cell_type": "code",
   "execution_count": 34,
   "metadata": {},
   "outputs": [],
   "source": [
    "# Turing Machine transition table for binary increment\n",
    "state_table = {\n",
    "    ('MOVE_RIGHT', '0'): ('MOVE_RIGHT', '0', 'R'),\n",
    "    ('MOVE_RIGHT', '1'): ('MOVE_RIGHT', '1', 'R'),\n",
    "    ('MOVE_RIGHT', '_'): ('CARRY', '_', 'L'),\n",
    "    ('CARRY', '0'): ('FINISH', '1', 'L'),\n",
    "    ('CARRY', '1'): ('CARRY', '0', 'L'),\n",
    "    ('CARRY', '_'): ('FINISH', '1', 'R'),\n",
    "}"
   ]
  },
  {
   "cell_type": "markdown",
   "metadata": {},
   "source": [
    "### Step 3: Define the Turing Machine Simulator\n",
    "\n",
    "The function below simulates the step-by-step execution of a Turing Machine based on a provided state transition table and initial input tape.\n",
    "\n",
    "Each step consists of:\n",
    "- Reading the current symbol under the tape head,\n",
    "- Applying a transition rule that specifies:\n",
    "  - The next state,\n",
    "  - The symbol to write at the current position,\n",
    "  - The direction to move the head (left or right).\n",
    "\n",
    "#### Tape and Symbols\n",
    "\n",
    "- The tape is represented as a list of symbols (characters).\n",
    "- The blank symbol (`_`) is used to denote empty cells.\n",
    "- The machine starts at the left-most non-blank position (index `0`).\n",
    "- If the head moves beyond the current ends of the tape, the simulator extends the tape with additional blanks.\n",
    "\n",
    "#### State Transitions\n",
    "\n",
    "- Transitions are defined in the format:\n",
    "  `(current_state, read_symbol) -> (next_state, write_symbol, direction)`\n",
    "\n",
    "- The simulator determines final (halting) states automatically:\n",
    "  - A state is considered final if it appears as a *next state* but never as a *current state* in the transition table.\n",
    "\n",
    "#### Verbose Mode\n",
    "\n",
    "If `verbose=True`, the simulator provides detailed output:\n",
    "- The initial length and content of the tape.\n",
    "- Each intermediate tape configuration, with the current state inserted at the head position.\n",
    "- The total number of operations (transitions) performed.\n",
    "\n",
    "This simulation allows any Turing Machine behavior to be tested, visualised, and debugged by adjusting the transition table and initial input tape."
   ]
  },
  {
   "cell_type": "code",
   "execution_count": 35,
   "metadata": {},
   "outputs": [],
   "source": [
    "def simulate(table, initial_input, verbose=True):\n",
    "    b = '_'  # Blank symbol used to represent empty cells on the tape\n",
    "    no_ops = 0  # Counter to track the number of operations performed\n",
    "\n",
    "    # Handle empty input by replacing it with a single blank symbol\n",
    "    if initial_input == '':\n",
    "        initial_input = '_'\n",
    "\n",
    "    # Convert the input string into a list to simulate a tape\n",
    "    tape = list(initial_input)\n",
    "\n",
    "    # Start reading from the left-most position (index 0)\n",
    "    pos = 0\n",
    "\n",
    "    # Get the initial state from the transition table (assumes order is preserved)\n",
    "    state = list(table.keys())[0][0]\n",
    "\n",
    "    # Extract all possible states from the table\n",
    "    states_1 = set(k[0] for k in table.keys())      # States on the left-hand side (current states)\n",
    "    states_3 = set(v[0] for v in table.values())    # States on the right-hand side (next states)\n",
    "\n",
    "    # Final states are those that appear as next states but not as current states\n",
    "    F = states_3 - states_1\n",
    "\n",
    "    if verbose:\n",
    "        # Display the length and initial configuration of the tape\n",
    "        print(f'Length of input: {len(initial_input)}')\n",
    "        print(state + ''.join(tape))\n",
    "\n",
    "    # Execute until a final state is reached\n",
    "    while state not in F:\n",
    "        # Read the current symbol from the tape\n",
    "        symbol = tape[pos]\n",
    "\n",
    "        # Look up the transition rule: (next_state, write_symbol, direction)\n",
    "        state, tape[pos], direction = table[(state, symbol)]\n",
    "\n",
    "        # Increment the number of operations\n",
    "        no_ops += 1\n",
    "\n",
    "        # Move the head left or right\n",
    "        if direction == 'L':\n",
    "            pos -= 1\n",
    "        else:\n",
    "            pos += 1\n",
    "\n",
    "        # If the head moves off the left end, prepend a blank symbol\n",
    "        if pos < 0:\n",
    "            tape = [b] + tape\n",
    "            pos = 0\n",
    "\n",
    "        # If the head moves beyond the current tape, append a blank symbol\n",
    "        if pos == len(tape):\n",
    "            tape.append(b)\n",
    "\n",
    "        if verbose:\n",
    "            # Print the current tape with the state shown at the current position\n",
    "            print(''.join(tape[:pos]) + state + ''.join(tape[pos:]))\n",
    "\n",
    "    if verbose:\n",
    "        # Display the total number of operations performed\n",
    "        print(f'Number of operations: {no_ops}')\n",
    "\n",
    "    # Return the final tape configuration as a string\n",
    "    return ''.join(tape)"
   ]
  },
  {
   "cell_type": "markdown",
   "metadata": {},
   "source": [
    "### Step 4: Example Simulation – Single Binary Input\n",
    "\n",
    "Test the machine by incrementing the binary number `10011011`."
   ]
  },
  {
   "cell_type": "code",
   "execution_count": 36,
   "metadata": {
    "scrolled": true
   },
   "outputs": [
    {
     "name": "stdout",
     "output_type": "stream",
     "text": [
      "Result: 10011100_\n"
     ]
    }
   ],
   "source": [
    "# Single test input\n",
    "result = simulate(state_table, \"10011011\", verbose=False)\n",
    "print(\"Result:\", result)"
   ]
  },
  {
   "cell_type": "markdown",
   "metadata": {},
   "source": [
    "### Step 5: Repeated Incrementation\n",
    "\n",
    "Simulate multiple iterations of the Turing Machine, starting from the binary number `00000000` and incrementing up to 15 times."
   ]
  },
  {
   "cell_type": "code",
   "execution_count": 37,
   "metadata": {},
   "outputs": [
    {
     "name": "stdout",
     "output_type": "stream",
     "text": [
      "Step  0: 00000000_\n",
      "Step  1: 00000001_\n",
      "Step  2: 00000010_\n",
      "Step  3: 00000011_\n",
      "Step  4: 00000100_\n",
      "Step  5: 00000101_\n",
      "Step  6: 00000110_\n",
      "Step  7: 00000111_\n",
      "Step  8: 00001000_\n",
      "Step  9: 00001001_\n",
      "Step 10: 00001010_\n",
      "Step 11: 00001011_\n",
      "Step 12: 00001100_\n",
      "Step 13: 00001101_\n",
      "Step 14: 00001110_\n",
      "Step 15: 00001111_\n",
      "Step 16: 00010000_\n"
     ]
    }
   ],
   "source": [
    "initial = \"00000000_\"\n",
    "print(\"Step  0:\", initial)\n",
    "\n",
    "# Perform and display 16 successive binary increments\n",
    "for i in range(16):\n",
    "    initial = simulate(state_table, initial, verbose=False)\n",
    "    print(f\"Step {i + 1:2}: {initial}\")"
   ]
  },
  {
   "cell_type": "markdown",
   "metadata": {},
   "source": [
    "## Task 8: Computational Complexity – Bubble Sort Analysis\n",
    "\n",
    "https://www.geeksforgeeks.org/bubble-sort-algorithm/  \n",
    "https://www.w3schools.com/dsa/dsa_algo_bubblesort.php  \n",
    "\n",
    "### Objective\n",
    "\n",
    "In this task, we analyse the computational complexity of the Bubble Sort algorithm by counting the number of comparisons it performs while sorting. Specifically, we apply Bubble Sort to every permutation of the list:\n",
    "\n",
    "    L = [1, 2, 3, 4, 5]\n",
    "\n",
    "For each permutation:\n",
    "- We perform a Bubble Sort.\n",
    "- We record and print the number of comparisons required to sort it.\n",
    "\n",
    "This allows us to observe how input order affects the number of operations performed, offering insight into best-case, average-case, and worst-case behaviour of the algorithm."
   ]
  },
  {
   "cell_type": "markdown",
   "metadata": {},
   "source": [
    "### Step 1: Define the Bubble Sort Function with Comparison Counter\n",
    "\n",
    "This is a modified version of Bubble Sort that counts the number of comparisons made during the sorting process.\n",
    "\n",
    "#### Key Features:\n",
    "- Operates on a copy of the input to avoid modifying the original list.\n",
    "- Returns the number of element comparisons."
   ]
  },
  {
   "cell_type": "code",
   "execution_count": 38,
   "metadata": {},
   "outputs": [],
   "source": [
    "def bubble_sort(array):\n",
    "    # Make a copy of the input array to avoid modifying the original\n",
    "    array = array.copy()\n",
    "\n",
    "    array_sorted = False  # Flag to track whether the array is sorted\n",
    "    comparisons = 0       # Counter for the number of element comparisons\n",
    "\n",
    "    # Continue looping until the array is fully sorted\n",
    "    while not array_sorted:\n",
    "        array_sorted = True  # Assume the array is sorted unless a swap proves otherwise\n",
    "\n",
    "        # Iterate through the array to perform pairwise comparisons\n",
    "        for i in range(1, len(array)):\n",
    "            comparisons += 1  # Increment the comparison counter\n",
    "\n",
    "            # If two adjacent elements are out of order, swap them\n",
    "            if array[i] < array[i - 1]:\n",
    "                array[i], array[i - 1] = array[i - 1], array[i]\n",
    "                array_sorted = False  # A swap means the array wasn't sorted\n",
    "\n",
    "    # Return the total number of comparisons performed\n",
    "    return comparisons"
   ]
  },
  {
   "cell_type": "markdown",
   "metadata": {},
   "source": [
    "### Step 2: Define the Input List\n",
    "\n",
    "We will evaluate the Bubble Sort algorithm on every permutation of the list `[1, 2, 3, 4, 5]`."
   ]
  },
  {
   "cell_type": "code",
   "execution_count": 39,
   "metadata": {},
   "outputs": [],
   "source": [
    "L = [1, 2, 3, 4, 5]"
   ]
  },
  {
   "cell_type": "markdown",
   "metadata": {},
   "source": [
    "### Step 3: Generate Permutations and Evaluate Comparisons\n",
    "\n",
    "This step uses the python itertools permutations library https://docs.python.org/3/library/itertools.html#itertools.permutations\n",
    "\n",
    "For each permutation of the list, we:\n",
    "1. Apply the `bubble_sort` function.\n",
    "2. Record the number of comparisons.\n",
    "3. Print both the permutation and the result.\n",
    "\n",
    "Note: There are `5! = 120` permutations in total."
   ]
  },
  {
   "cell_type": "code",
   "execution_count": 40,
   "metadata": {},
   "outputs": [
    {
     "name": "stdout",
     "output_type": "stream",
     "text": [
      "Permutation: (1, 2, 3, 4, 5), Comparisons: 4\n",
      "Permutation: (1, 2, 3, 5, 4), Comparisons: 8\n",
      "Permutation: (1, 2, 4, 3, 5), Comparisons: 8\n",
      "Permutation: (1, 2, 4, 5, 3), Comparisons: 12\n",
      "Permutation: (1, 2, 5, 3, 4), Comparisons: 8\n",
      "Permutation: (1, 2, 5, 4, 3), Comparisons: 12\n",
      "Permutation: (1, 3, 2, 4, 5), Comparisons: 8\n",
      "Permutation: (1, 3, 2, 5, 4), Comparisons: 8\n",
      "Permutation: (1, 3, 4, 2, 5), Comparisons: 12\n",
      "Permutation: (1, 3, 4, 5, 2), Comparisons: 16\n",
      "Permutation: (1, 3, 5, 2, 4), Comparisons: 12\n",
      "Permutation: (1, 3, 5, 4, 2), Comparisons: 16\n",
      "Permutation: (1, 4, 2, 3, 5), Comparisons: 8\n",
      "Permutation: (1, 4, 2, 5, 3), Comparisons: 12\n",
      "Permutation: (1, 4, 3, 2, 5), Comparisons: 12\n",
      "Permutation: (1, 4, 3, 5, 2), Comparisons: 16\n",
      "Permutation: (1, 4, 5, 2, 3), Comparisons: 12\n",
      "Permutation: (1, 4, 5, 3, 2), Comparisons: 16\n",
      "Permutation: (1, 5, 2, 3, 4), Comparisons: 8\n",
      "Permutation: (1, 5, 2, 4, 3), Comparisons: 12\n",
      "Permutation: (1, 5, 3, 2, 4), Comparisons: 12\n",
      "Permutation: (1, 5, 3, 4, 2), Comparisons: 16\n",
      "Permutation: (1, 5, 4, 2, 3), Comparisons: 12\n",
      "Permutation: (1, 5, 4, 3, 2), Comparisons: 16\n",
      "Permutation: (2, 1, 3, 4, 5), Comparisons: 8\n",
      "Permutation: (2, 1, 3, 5, 4), Comparisons: 8\n",
      "Permutation: (2, 1, 4, 3, 5), Comparisons: 8\n",
      "Permutation: (2, 1, 4, 5, 3), Comparisons: 12\n",
      "Permutation: (2, 1, 5, 3, 4), Comparisons: 8\n",
      "Permutation: (2, 1, 5, 4, 3), Comparisons: 12\n",
      "Permutation: (2, 3, 1, 4, 5), Comparisons: 12\n",
      "Permutation: (2, 3, 1, 5, 4), Comparisons: 12\n",
      "Permutation: (2, 3, 4, 1, 5), Comparisons: 16\n",
      "Permutation: (2, 3, 4, 5, 1), Comparisons: 20\n",
      "Permutation: (2, 3, 5, 1, 4), Comparisons: 16\n",
      "Permutation: (2, 3, 5, 4, 1), Comparisons: 20\n",
      "Permutation: (2, 4, 1, 3, 5), Comparisons: 12\n",
      "Permutation: (2, 4, 1, 5, 3), Comparisons: 12\n",
      "Permutation: (2, 4, 3, 1, 5), Comparisons: 16\n",
      "Permutation: (2, 4, 3, 5, 1), Comparisons: 20\n",
      "Permutation: (2, 4, 5, 1, 3), Comparisons: 16\n",
      "Permutation: (2, 4, 5, 3, 1), Comparisons: 20\n",
      "Permutation: (2, 5, 1, 3, 4), Comparisons: 12\n",
      "Permutation: (2, 5, 1, 4, 3), Comparisons: 12\n",
      "Permutation: (2, 5, 3, 1, 4), Comparisons: 16\n",
      "Permutation: (2, 5, 3, 4, 1), Comparisons: 20\n",
      "Permutation: (2, 5, 4, 1, 3), Comparisons: 16\n",
      "Permutation: (2, 5, 4, 3, 1), Comparisons: 20\n",
      "Permutation: (3, 1, 2, 4, 5), Comparisons: 8\n",
      "Permutation: (3, 1, 2, 5, 4), Comparisons: 8\n",
      "Permutation: (3, 1, 4, 2, 5), Comparisons: 12\n",
      "Permutation: (3, 1, 4, 5, 2), Comparisons: 16\n",
      "Permutation: (3, 1, 5, 2, 4), Comparisons: 12\n",
      "Permutation: (3, 1, 5, 4, 2), Comparisons: 16\n",
      "Permutation: (3, 2, 1, 4, 5), Comparisons: 12\n",
      "Permutation: (3, 2, 1, 5, 4), Comparisons: 12\n",
      "Permutation: (3, 2, 4, 1, 5), Comparisons: 16\n",
      "Permutation: (3, 2, 4, 5, 1), Comparisons: 20\n",
      "Permutation: (3, 2, 5, 1, 4), Comparisons: 16\n",
      "Permutation: (3, 2, 5, 4, 1), Comparisons: 20\n",
      "Permutation: (3, 4, 1, 2, 5), Comparisons: 12\n",
      "Permutation: (3, 4, 1, 5, 2), Comparisons: 16\n",
      "Permutation: (3, 4, 2, 1, 5), Comparisons: 16\n",
      "Permutation: (3, 4, 2, 5, 1), Comparisons: 20\n",
      "Permutation: (3, 4, 5, 1, 2), Comparisons: 16\n",
      "Permutation: (3, 4, 5, 2, 1), Comparisons: 20\n",
      "Permutation: (3, 5, 1, 2, 4), Comparisons: 12\n",
      "Permutation: (3, 5, 1, 4, 2), Comparisons: 16\n",
      "Permutation: (3, 5, 2, 1, 4), Comparisons: 16\n",
      "Permutation: (3, 5, 2, 4, 1), Comparisons: 20\n",
      "Permutation: (3, 5, 4, 1, 2), Comparisons: 16\n",
      "Permutation: (3, 5, 4, 2, 1), Comparisons: 20\n",
      "Permutation: (4, 1, 2, 3, 5), Comparisons: 8\n",
      "Permutation: (4, 1, 2, 5, 3), Comparisons: 12\n",
      "Permutation: (4, 1, 3, 2, 5), Comparisons: 12\n",
      "Permutation: (4, 1, 3, 5, 2), Comparisons: 16\n",
      "Permutation: (4, 1, 5, 2, 3), Comparisons: 12\n",
      "Permutation: (4, 1, 5, 3, 2), Comparisons: 16\n",
      "Permutation: (4, 2, 1, 3, 5), Comparisons: 12\n",
      "Permutation: (4, 2, 1, 5, 3), Comparisons: 12\n",
      "Permutation: (4, 2, 3, 1, 5), Comparisons: 16\n",
      "Permutation: (4, 2, 3, 5, 1), Comparisons: 20\n",
      "Permutation: (4, 2, 5, 1, 3), Comparisons: 16\n",
      "Permutation: (4, 2, 5, 3, 1), Comparisons: 20\n",
      "Permutation: (4, 3, 1, 2, 5), Comparisons: 12\n",
      "Permutation: (4, 3, 1, 5, 2), Comparisons: 16\n",
      "Permutation: (4, 3, 2, 1, 5), Comparisons: 16\n",
      "Permutation: (4, 3, 2, 5, 1), Comparisons: 20\n",
      "Permutation: (4, 3, 5, 1, 2), Comparisons: 16\n",
      "Permutation: (4, 3, 5, 2, 1), Comparisons: 20\n",
      "Permutation: (4, 5, 1, 2, 3), Comparisons: 12\n",
      "Permutation: (4, 5, 1, 3, 2), Comparisons: 16\n",
      "Permutation: (4, 5, 2, 1, 3), Comparisons: 16\n",
      "Permutation: (4, 5, 2, 3, 1), Comparisons: 20\n",
      "Permutation: (4, 5, 3, 1, 2), Comparisons: 16\n",
      "Permutation: (4, 5, 3, 2, 1), Comparisons: 20\n",
      "Permutation: (5, 1, 2, 3, 4), Comparisons: 8\n",
      "Permutation: (5, 1, 2, 4, 3), Comparisons: 12\n",
      "Permutation: (5, 1, 3, 2, 4), Comparisons: 12\n",
      "Permutation: (5, 1, 3, 4, 2), Comparisons: 16\n",
      "Permutation: (5, 1, 4, 2, 3), Comparisons: 12\n",
      "Permutation: (5, 1, 4, 3, 2), Comparisons: 16\n",
      "Permutation: (5, 2, 1, 3, 4), Comparisons: 12\n",
      "Permutation: (5, 2, 1, 4, 3), Comparisons: 12\n",
      "Permutation: (5, 2, 3, 1, 4), Comparisons: 16\n",
      "Permutation: (5, 2, 3, 4, 1), Comparisons: 20\n",
      "Permutation: (5, 2, 4, 1, 3), Comparisons: 16\n",
      "Permutation: (5, 2, 4, 3, 1), Comparisons: 20\n",
      "Permutation: (5, 3, 1, 2, 4), Comparisons: 12\n",
      "Permutation: (5, 3, 1, 4, 2), Comparisons: 16\n",
      "Permutation: (5, 3, 2, 1, 4), Comparisons: 16\n",
      "Permutation: (5, 3, 2, 4, 1), Comparisons: 20\n",
      "Permutation: (5, 3, 4, 1, 2), Comparisons: 16\n",
      "Permutation: (5, 3, 4, 2, 1), Comparisons: 20\n",
      "Permutation: (5, 4, 1, 2, 3), Comparisons: 12\n",
      "Permutation: (5, 4, 1, 3, 2), Comparisons: 16\n",
      "Permutation: (5, 4, 2, 1, 3), Comparisons: 16\n",
      "Permutation: (5, 4, 2, 3, 1), Comparisons: 20\n",
      "Permutation: (5, 4, 3, 1, 2), Comparisons: 16\n",
      "Permutation: (5, 4, 3, 2, 1), Comparisons: 20\n"
     ]
    }
   ],
   "source": [
    "for permutation in permutations(L):\n",
    "    comparison_count = bubble_sort(list(permutation))\n",
    "    print(f\"Permutation: {permutation}, Comparisons: {comparison_count}\")"
   ]
  },
  {
   "cell_type": "markdown",
   "metadata": {},
   "source": [
    "## End"
   ]
  }
 ],
 "metadata": {
  "kernelspec": {
   "display_name": "Python 3 (ipykernel)",
   "language": "python",
   "name": "python3"
  },
  "language_info": {
   "codemirror_mode": {
    "name": "ipython",
    "version": 3
   },
   "file_extension": ".py",
   "mimetype": "text/x-python",
   "name": "python",
   "nbconvert_exporter": "python",
   "pygments_lexer": "ipython3",
   "version": "3.11.0"
  }
 },
 "nbformat": 4,
 "nbformat_minor": 4
}
