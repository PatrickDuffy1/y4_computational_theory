{
 "cells": [
  {
   "cell_type": "markdown",
   "metadata": {},
   "source": [
    "# Computational Theory Tasks"
   ]
  },
  {
   "cell_type": "code",
   "execution_count": 210,
   "metadata": {},
   "outputs": [],
   "source": [
    "import numpy as np\n",
    "import math"
   ]
  },
  {
   "cell_type": "markdown",
   "metadata": {},
   "source": [
    "## Task 1: Binary Representations"
   ]
  },
  {
   "cell_type": "markdown",
   "metadata": {},
   "source": [
    "### The function rotl(x, n=1) rotates the bits in a 32-bit unsigned integer to the left n places."
   ]
  },
  {
   "cell_type": "code",
   "execution_count": 211,
   "metadata": {},
   "outputs": [],
   "source": [
    "def rotl(x, n=1):\n",
    "    \n",
    "    # Make x and y 32 bit unsigned ints\n",
    "    # https://numpy.org/doc/2.1/reference/arrays.scalars.html#numpy.uint32\n",
    "    x = np.uint32(x)\n",
    "    y = np.uint32(x)\n",
    "\n",
    "    print_bits_with_leading_zeros(\"x bits:\", x)\n",
    "    \n",
    "    # Shift y 32 bits - n to the left\n",
    "    y = x >> 32 - n\n",
    "\n",
    "    # Shift x n bits to the right\n",
    "    x = x << n\n",
    "\n",
    "    # Perform bitwise OR on x and y to get the result\n",
    "    result = np.uint32(x | y)\n",
    "\n",
    "    print_bits_with_leading_zeros(\"R bits:\", result)\n",
    "    \n",
    "    return result"
   ]
  },
  {
   "cell_type": "markdown",
   "metadata": {},
   "source": [
    "### The function rotr(x, n=1) rotates the bits in a 32-bit unsigned integer to the right n places."
   ]
  },
  {
   "cell_type": "code",
   "execution_count": 212,
   "metadata": {},
   "outputs": [],
   "source": [
    "def rotr(x, n=1):\n",
    "    \n",
    "    # Make x and y 32 bit unsigned ints\n",
    "    # https://numpy.org/doc/2.1/reference/arrays.scalars.html#numpy.uint32\n",
    "    x = np.uint32(x)\n",
    "    y = np.uint32(x)\n",
    "\n",
    "    print_bits_with_leading_zeros(\"x bits:\", x)\n",
    "    \n",
    "    # Shift y 32 bits - n to the left\n",
    "    y = x << 32 - n\n",
    "\n",
    "    # Shift x n bits to the right\n",
    "    x = x >> n\n",
    "\n",
    "    # Perform bitwise OR on x and y to get the result\n",
    "    result = np.uint32(x | y)\n",
    "\n",
    "    print_bits_with_leading_zeros(\"R bits:\", result)\n",
    "    \n",
    "    return result"
   ]
  },
  {
   "cell_type": "markdown",
   "metadata": {},
   "source": [
    "### The function ch(x, y, z) that chooses the bits from y where x has bits set to 1 and bits in z where x has bits set to 0."
   ]
  },
  {
   "cell_type": "code",
   "execution_count": 213,
   "metadata": {},
   "outputs": [],
   "source": [
    "def ch(x, y, z):\n",
    "\n",
    "    x = np.uint32(x)\n",
    "    y = np.uint32(y)\n",
    "    z = np.uint32(z)\n",
    "    result = np.uint32(0)\n",
    "\n",
    "    result = (z & (x ^ z)) | (x & y)\n",
    "\n",
    "    print_bits_with_leading_zeros(\"x bits:\", x)\n",
    "    print_bits_with_leading_zeros(\"y bits:\", y)\n",
    "    print_bits_with_leading_zeros(\"z bits:\", z)\n",
    "    print_bits_with_leading_zeros(\"R bits:\", result)\n",
    "    \n",
    "    return result"
   ]
  },
  {
   "cell_type": "markdown",
   "metadata": {},
   "source": [
    "### The function maj(x, y, z) which takes a majority vote of the bits in x, y, and z.\n",
    "The output should have a 1 in bit position i where at least two of x, y, and z have 1's in position i.  \n",
    "All other output bit positions should be 0."
   ]
  },
  {
   "cell_type": "code",
   "execution_count": 214,
   "metadata": {},
   "outputs": [],
   "source": [
    "def maj(x, y, z):\n",
    "    \n",
    "    x = np.uint32(x)\n",
    "    y = np.uint32(y)\n",
    "    z = np.uint32(z)\n",
    "    result = np.uint32(0)\n",
    "\n",
    "    result = (x & y) | (x & z) | (z & y)\n",
    "\n",
    "    print_bits_with_leading_zeros(\"x bits:\", x)\n",
    "    print_bits_with_leading_zeros(\"y bits:\", y)\n",
    "    print_bits_with_leading_zeros(\"z bits:\", z)\n",
    "    print_bits_with_leading_zeros(\"R bits:\", result)\n",
    "\n",
    "    return result"
   ]
  },
  {
   "cell_type": "markdown",
   "metadata": {},
   "source": [
    "## Task 2: Hash Functions\n",
    "\n",
    "The following is a converted hash function from The C Programming Language by Brian Kernighan and Dennis Ritchie.\n",
    "\n",
    "31 and 101 were chosn becuase they seemed to work best for the task.\n",
    "\n",
    "(Note: I had to name the function hash_function instead of hash like the original because hash is a keyword in python)"
   ]
  },
  {
   "cell_type": "code",
   "execution_count": 215,
   "metadata": {},
   "outputs": [],
   "source": [
    "def hash_function(s):\n",
    "    hashval = np.uint32(0)\n",
    "    \n",
    "    for element in s:\n",
    "        hashval = ord(element) + 31 * hashval\n",
    "        \n",
    "    return hashval % 101"
   ]
  },
  {
   "cell_type": "markdown",
   "metadata": {},
   "source": [
    "## Task 3: SHA256\n",
    "\n",
    "A Python function that calculates the SHA256 padding for a given file.  \n",
    "The function takes a file path as input.  \n",
    "It prints, in hex, the padding that would be applied to it."
   ]
  },
  {
   "cell_type": "code",
   "execution_count": 216,
   "metadata": {},
   "outputs": [],
   "source": [
    "def calculate_file_sha(file_path):\n",
    "    \n",
    "    #value = np.uint64(0)\n",
    "    \n",
    "    # https://stackoverflow.com/a/41795615\n",
    "    content = open(file_path, 'r').read()\n",
    "    \n",
    "    character_bytes = []\n",
    "    \n",
    "    for character in content:\n",
    "        character_bytes.append(bin(int(ord(character) - ord('0'))))\n",
    "        \n",
    "    bits_length = 0\n",
    "    \n",
    "    for i in range(0, len(character_bytes)):\n",
    "        bits_length += len(character_bytes[i])\n",
    "        \n",
    "    print(character_bytes)"
   ]
  },
  {
   "cell_type": "markdown",
   "metadata": {},
   "source": [
    "## Task 4: Prime Numbers\n",
    "\n",
    "Calculates the first 1,00 prime numbers using two different algorithms."
   ]
  },
  {
   "cell_type": "code",
   "execution_count": 217,
   "metadata": {},
   "outputs": [],
   "source": [
    "def calculate_prime_numbers(primes_to_calculate = 100):\n",
    "    prime_numbers = calculate_prime_numbers_trial_division(primes_to_calculate)\n",
    "    #prime_numbers =calculate_prime_numbers_wilsons_theorem(primes_to_calculate)\n",
    "    return prime_numbers"
   ]
  },
  {
   "cell_type": "code",
   "execution_count": 218,
   "metadata": {},
   "outputs": [],
   "source": [
    "def calculate_prime_numbers_trial_division(primes_to_calculate):\n",
    "    \n",
    "    # Trial Division\n",
    "    # https://www.symbolab.com/calculator/other/prime-number#middleText\n",
    "    prime_numbers = [2]\n",
    "    current_number = 3\n",
    "    \n",
    "    while len(prime_numbers) < primes_to_calculate:\n",
    "        \n",
    "        is_prime = True\n",
    "        \n",
    "        for i in range(2, current_number + 1):\n",
    "            \n",
    "            if current_number % i == 0 and current_number != i:\n",
    "                is_prime = False\n",
    "                break\n",
    "                \n",
    "        if is_prime:\n",
    "            prime_numbers.append(current_number)\n",
    "            \n",
    "        current_number += 1\n",
    "    return prime_numbers"
   ]
  },
  {
   "cell_type": "code",
   "execution_count": 219,
   "metadata": {},
   "outputs": [],
   "source": [
    "import math\n",
    "\n",
    "def calculate_prime_numbers_wilsons_theorem(primes_to_calculate):\n",
    "    prime_numbers = []\n",
    "    current_number = 2\n",
    "\n",
    "    while len(prime_numbers) < primes_to_calculate:\n",
    "        if math.factorial(current_number - 1) % current_number == current_number - 1:\n",
    "            prime_numbers.append(current_number)\n",
    "\n",
    "        current_number += 1\n",
    "    return prime_numbers"
   ]
  },
  {
   "cell_type": "markdown",
   "metadata": {},
   "source": [
    "## Task 5: Roots\n",
    "\n",
    "Calculates the first 32 bits of the fractional part of the square roots or the first 100 prime numbers."
   ]
  },
  {
   "cell_type": "code",
   "execution_count": 220,
   "metadata": {},
   "outputs": [],
   "source": [
    "def calculate_32_bits_of_sqaure_roots():\n",
    "    primes = calculate_prime_numbers_trial_division(100)\n",
    "    fractional_bits_of_primes = []\n",
    "    \n",
    "    for prime in primes:\n",
    "        square_root = math.sqrt(prime)\n",
    "        \n",
    "        # https://www.geeksforgeeks.org/fractional-part-function/\n",
    "        fractional_part = square_root - math.floor(square_root)\n",
    "        \n",
    "        # Shift fractional part by 32 bits to make it an int\n",
    "        fractional_scaled = int(fractional_part * (1 << 32))\n",
    "        \n",
    "        fractional_bits_of_primes.append(bin(fractional_scaled))\n",
    "        \n",
    "    return fractional_bits_of_primes"
   ]
  },
  {
   "cell_type": "markdown",
   "metadata": {},
   "source": [
    "## Task 6: Proof of Work\n",
    "\n",
    "Finds the word(s) in the English language with the greatest number of 0 bits at the beginning of their SHA256 hash digest."
   ]
  },
  {
   "cell_type": "code",
   "execution_count": null,
   "metadata": {},
   "outputs": [],
   "source": []
  },
  {
   "cell_type": "markdown",
   "metadata": {},
   "source": [
    "## Task 7: Turing Machines\n",
    "\n",
    "A Turing Machine that adds 1 to a binary number on its tape.  \n",
    "The machine starts at the left-most non-blank symbol.  \n",
    "It treats the right-most symbol as the least significant bit.  "
   ]
  },
  {
   "cell_type": "code",
   "execution_count": null,
   "metadata": {},
   "outputs": [],
   "source": []
  },
  {
   "cell_type": "markdown",
   "metadata": {},
   "source": [
    "## Task 8: Computational Complexity\n",
    "\n",
    "Implementation of bubble sort in Python, modifying it to count the number of comparisons made during sorting."
   ]
  },
  {
   "cell_type": "code",
   "execution_count": 221,
   "metadata": {},
   "outputs": [],
   "source": [
    "def bubble_sort(array):\n",
    "    \n",
    "    array_sorted = False\n",
    "    comparisons = 0\n",
    "    \n",
    "    while array_sorted == False:\n",
    "        \n",
    "        array_sorted = True\n",
    "        \n",
    "        for i in range(1, len(array)):\n",
    "            \n",
    "            if array[i] < array[i - 1]:\n",
    "                temp = array[i]\n",
    "                array[i] = array[i - 1]\n",
    "                array[i - 1] = temp\n",
    "                array_sorted = False\n",
    "                \n",
    "            comparisons += 1\n",
    "            \n",
    "    return array, comparisons"
   ]
  },
  {
   "cell_type": "code",
   "execution_count": 222,
   "metadata": {},
   "outputs": [],
   "source": [
    "# Print the bits using zfill to show the leading zeros\n",
    "# https://docs.python.org/3/library/stdtypes.html\n",
    "def print_bits_with_leading_zeros(message, value):\n",
    "    print(message, bin(value)[2:].zfill(np.iinfo(value.dtype).bits))"
   ]
  },
  {
   "cell_type": "markdown",
   "metadata": {},
   "source": [
    "## Run Tasks"
   ]
  },
  {
   "cell_type": "code",
   "execution_count": 223,
   "metadata": {},
   "outputs": [
    {
     "name": "stdout",
     "output_type": "stream",
     "text": [
      "Rotate Left:\n",
      "x bits: 11101110011010110010100000000000\n",
      "R bits: 01110011010110010100000000000111\n",
      "1935228935 \n",
      "\n"
     ]
    }
   ],
   "source": [
    "print(\"Rotate Left:\")\n",
    "print(rotl(4000000000, 3), \"\\n\")"
   ]
  },
  {
   "cell_type": "code",
   "execution_count": 224,
   "metadata": {},
   "outputs": [
    {
     "name": "stdout",
     "output_type": "stream",
     "text": [
      "Rotate Right:\n",
      "x bits: 00000000000000000000000000010100\n",
      "R bits: 10000000000000000000000000000010\n",
      "2147483650 \n",
      "\n"
     ]
    }
   ],
   "source": [
    "print(\"Rotate Right:\")\n",
    "print(rotr(20, 3), \"\\n\")"
   ]
  },
  {
   "cell_type": "code",
   "execution_count": 225,
   "metadata": {},
   "outputs": [
    {
     "name": "stdout",
     "output_type": "stream",
     "text": [
      "x bits: 00000000000011100110010101110110\n",
      "y bits: 00000000000001110010001101111000\n",
      "z bits: 00000000000000001011101101010000\n",
      "R bits: 00000000000001101011101101110000\n",
      "Choose: 441200 \n",
      "\n"
     ]
    }
   ],
   "source": [
    "print(\"Choose:\", ch(943478, 467832, 47952), \"\\n\")"
   ]
  },
  {
   "cell_type": "code",
   "execution_count": 226,
   "metadata": {},
   "outputs": [
    {
     "name": "stdout",
     "output_type": "stream",
     "text": [
      "x bits: 00000000000011100110010101110110\n",
      "y bits: 00000000000001110010001101111000\n",
      "z bits: 00000000000000001011101101010000\n",
      "R bits: 00000000000001100010001101110000\n",
      "Majority: 402288 \n",
      "\n"
     ]
    }
   ],
   "source": [
    "print(\"Majority:\", maj(943478, 467832, 47952), \"\\n\")"
   ]
  },
  {
   "cell_type": "code",
   "execution_count": 227,
   "metadata": {},
   "outputs": [
    {
     "name": "stdout",
     "output_type": "stream",
     "text": [
      "Hash: 70 \n",
      "\n"
     ]
    }
   ],
   "source": [
    "print(\"Hash:\", hash_function([\"a\", \"b\", \"c\", \"d\", \"e\"]), \"\\n\")"
   ]
  },
  {
   "cell_type": "code",
   "execution_count": 228,
   "metadata": {},
   "outputs": [
    {
     "name": "stdout",
     "output_type": "stream",
     "text": [
      "Sorted array: [1, 1, 3, 5, 5, 6, 7, 8, 9, 10, 43] , Comparisons 80 \n",
      "\n"
     ]
    }
   ],
   "source": [
    "sorted_array, comparisons = bubble_sort([5, 3, 8, 1, 10, 5, 7, 6, 1, 9, 43])\n",
    "print(\"Sorted array:\", sorted_array, \", Comparisons\", comparisons, \"\\n\")"
   ]
  },
  {
   "cell_type": "code",
   "execution_count": 229,
   "metadata": {},
   "outputs": [
    {
     "name": "stdout",
     "output_type": "stream",
     "text": [
      "['0b110001', '0b110010', '0b110011']\n",
      "None\n"
     ]
    }
   ],
   "source": [
    "print(calculate_file_sha(\"task_resources/sha_test_file.txt\"))"
   ]
  },
  {
   "cell_type": "code",
   "execution_count": 230,
   "metadata": {},
   "outputs": [
    {
     "name": "stdout",
     "output_type": "stream",
     "text": [
      "[2, 3, 5, 7, 11, 13, 17, 19, 23, 29, 31, 37, 41, 43, 47, 53, 59, 61, 67, 71, 73, 79, 83, 89, 97, 101, 103, 107, 109, 113, 127, 131, 137, 139, 149, 151, 157, 163, 167, 173, 179, 181, 191, 193, 197, 199, 211, 223, 227, 229, 233, 239, 241, 251, 257, 263, 269, 271, 277, 281, 283, 293, 307, 311, 313, 317, 331, 337, 347, 349, 353, 359, 367, 373, 379, 383, 389, 397, 401, 409, 419, 421, 431, 433, 439, 443, 449, 457, 461, 463, 467, 479, 487, 491, 499, 503, 509, 521, 523, 541]\n"
     ]
    }
   ],
   "source": [
    "print(calculate_prime_numbers())"
   ]
  },
  {
   "cell_type": "code",
   "execution_count": 231,
   "metadata": {},
   "outputs": [
    {
     "data": {
      "text/plain": [
       "['0b1101010000010011110011001100111',\n",
       " '0b10111011011001111010111010000101',\n",
       " '0b111100011011101111001101110010',\n",
       " '0b10100101010011111111010100111010',\n",
       " '0b1010001000011100101001001111111',\n",
       " '0b10011011000001010110100010001100',\n",
       " '0b11111100000111101100110101011',\n",
       " '0b1011011111000001100110100011001',\n",
       " '0b11001011101110111001110101011101',\n",
       " '0b1100010100110100010100100101010',\n",
       " '0b10010001010110010000000101011010',\n",
       " '0b10101001011111110110011011000',\n",
       " '0b1100111001100110010011001100111',\n",
       " '0b10001110101101000100101010000111',\n",
       " '0b11011011000011000010111000001101',\n",
       " '0b1000111101101010100100000011101',\n",
       " '0b10101110010111111001000101010110',\n",
       " '0b11001111011011001000010111010011',\n",
       " '0b101111011100110100011101111101',\n",
       " '0b1101101000110000010011011001010',\n",
       " '0b10001011010000111101010001010111',\n",
       " '0b11100011011000001011010110010110',\n",
       " '0b11100010001010110000000000010',\n",
       " '0b1101111000110010110001100110001',\n",
       " '0b11011001010011101011111010110001',\n",
       " '0b1100110001001010011000010001',\n",
       " '0b100110000111011100000111110010',\n",
       " '0b1011000000101011010011110111110',\n",
       " '0b1110000101101111110110101100111',\n",
       " '0b10100001010100010011110001101001',\n",
       " '0b1000100111110010011011000110101',\n",
       " '0b1110010000011011100110111111101',\n",
       " '0b10110100011001110011011010011110',\n",
       " '0b11001010001100100000101101110101',\n",
       " '0b110100111000001101010000101110',\n",
       " '0b1001001110001111101100110111101',\n",
       " '0b10000111101010111011100111110010',\n",
       " '0b11000100011000111010001011111100',\n",
       " '0b11101100001111111100001111110011',\n",
       " '0b100111001001110111111101101101',\n",
       " '0b1100001000010111110101111110010',\n",
       " '0b1110100001000001011010010011110',\n",
       " '0b11010001111111011000101000110011',\n",
       " '0b11100100011101110011010110010100',\n",
       " '0b1001001000011001011111110110',\n",
       " '0b11011010100110000110010010101',\n",
       " '0b10000110100111010110001101000010',\n",
       " '0b11101110111001010010111001001111',\n",
       " '0b10001000001110110011010001001',\n",
       " '0b100001111110111010001101111011',\n",
       " '0b1000011101010111001111110110110',\n",
       " '0b1110101101010011111100100011101',\n",
       " '0b10000110001100000101000000011001',\n",
       " '0b11010111110011011000000101110011',\n",
       " '0b111111111100000000011111111',\n",
       " '0b110111100111110101000100111111',\n",
       " '0b1100110101101100101000110101000',\n",
       " '0b1110110010010101011100001000010',\n",
       " '0b10100100101100000110101111100001',\n",
       " '0b11000011010101111000110000010101',\n",
       " '0b11010010100101100010101001010011',\n",
       " '0b11110000000111001111101000000',\n",
       " '0b10000101011110110111101111101110',\n",
       " '0b10100010100110111111001011011110',\n",
       " '0b10110001000110100011001011101000',\n",
       " '0b11001101111100110100111010000000',\n",
       " '0b110001100000110000010000100110',\n",
       " '0b1011011100010010000100100101011',\n",
       " '0b10100000110000000110101000010011',\n",
       " '0b10101110011110011000010000101111',\n",
       " '0b11001001110011011010011010001001',\n",
       " '0b11110010100000011111001000111001',\n",
       " '0b101000010000010010010110010010',\n",
       " '0b1010000001011100110010011011011',\n",
       " '0b1110111110010011100001000010001',\n",
       " '0b10010010000001001100110110011101',\n",
       " '0b10111001000110111111011001100011',\n",
       " '0b11101100110000111000110010011101',\n",
       " '0b110011001010110000010010101',\n",
       " '0b111001010001111001001110000001',\n",
       " '0b1111000001100000111011010010111',\n",
       " '0b10000100101011100100101101111100',\n",
       " '0b11000010101100101011011101010101',\n",
       " '0b11001111000000111101001000001110',\n",
       " '0b11110011110010111011000100010111',\n",
       " '0b1100001011010011101101001011',\n",
       " '0b110000100010101111000101100001',\n",
       " '0b1100000101001111010100110011000',\n",
       " '0b1111000100011011001100000010010',\n",
       " '0b10000100011101101001101101000010',\n",
       " '0b10011100001101001111000001100010',\n",
       " '0b11100010110101010110010011000100',\n",
       " '0b10001011011010111010111111101',\n",
       " '0b101000100101001100000100000111',\n",
       " '0b1010110100110110101100011000110',\n",
       " '0b1101101011110110011100100111001',\n",
       " '0b10001111100111111000110110111011',\n",
       " '0b11010011010011110000001111001101',\n",
       " '0b11011110100000110111001011101111',\n",
       " '0b1000010011010000111101000111001']"
      ]
     },
     "execution_count": 231,
     "metadata": {},
     "output_type": "execute_result"
    }
   ],
   "source": [
    "calculate_32_bits_of_sqaure_roots()"
   ]
  },
  {
   "cell_type": "code",
   "execution_count": null,
   "metadata": {},
   "outputs": [],
   "source": []
  }
 ],
 "metadata": {
  "kernelspec": {
   "display_name": "Python 3",
   "language": "python",
   "name": "python3"
  },
  "language_info": {
   "codemirror_mode": {
    "name": "ipython",
    "version": 3
   },
   "file_extension": ".py",
   "mimetype": "text/x-python",
   "name": "python",
   "nbconvert_exporter": "python",
   "pygments_lexer": "ipython3",
   "version": "3.7.3"
  }
 },
 "nbformat": 4,
 "nbformat_minor": 4
}
