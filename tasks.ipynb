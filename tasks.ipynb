{
 "cells": [
  {
   "cell_type": "markdown",
   "metadata": {},
   "source": [
    "# Computational Theory Tasks"
   ]
  },
  {
   "cell_type": "code",
   "execution_count": 1,
   "metadata": {},
   "outputs": [],
   "source": [
    "import numpy as np"
   ]
  },
  {
   "cell_type": "markdown",
   "metadata": {},
   "source": [
    "## Task 1: Binary Representations"
   ]
  },
  {
   "cell_type": "markdown",
   "metadata": {},
   "source": [
    "### The function rotl(x, n=1) rotates the bits in a 32-bit unsigned integer to the left n places."
   ]
  },
  {
   "cell_type": "code",
   "execution_count": 2,
   "metadata": {},
   "outputs": [],
   "source": [
    "def rotl(x, n=1):\n",
    "    \n",
    "    # Make x and y 32 bit unsigned ints\n",
    "    # https://numpy.org/doc/2.1/reference/arrays.scalars.html#numpy.uint32\n",
    "    x = np.uint32(x)\n",
    "    y = np.uint32(x)\n",
    "\n",
    "    print(\"x bits:\", bin(x))\n",
    "    \n",
    "    # Shift y 32 bits - n to the left\n",
    "    y = x >> 32 - n\n",
    "\n",
    "    # Shift x n bits to the right\n",
    "    x = x << n\n",
    "\n",
    "    # Perform bitwise OR on x and y to get the result\n",
    "    result = np.uint32(x | y)\n",
    "\n",
    "    print(\"Result bits:\", bin(result))\n",
    "    \n",
    "    return result"
   ]
  },
  {
   "cell_type": "markdown",
   "metadata": {},
   "source": [
    "### The function rotr(x, n=1) rotates the bits in a 32-bit unsigned integer to the right n places."
   ]
  },
  {
   "cell_type": "code",
   "execution_count": 3,
   "metadata": {},
   "outputs": [],
   "source": [
    "def rotr(x, n=1):\n",
    "    \n",
    "    # Make x and y 32 bit unsigned ints\n",
    "    # https://numpy.org/doc/2.1/reference/arrays.scalars.html#numpy.uint32\n",
    "    x = np.uint32(x)\n",
    "    y = np.uint32(x)\n",
    "\n",
    "    print(\"x bits:\", bin(x))\n",
    "    \n",
    "    # Shift y 32 bits - n to the left\n",
    "    y = x << 32 - n\n",
    "\n",
    "    # Shift x n bits to the right\n",
    "    x = x >> n\n",
    "\n",
    "    # Perform bitwise OR on x and y to get the result\n",
    "    result = np.uint32(x | y)\n",
    "\n",
    "    print(\"Result bits:\", bin(result))\n",
    "    \n",
    "    return result"
   ]
  },
  {
   "cell_type": "markdown",
   "metadata": {},
   "source": [
    "### The function ch(x, y, z) that chooses the bits from y where x has bits set to 1 and bits in z where x has bits set to 0."
   ]
  },
  {
   "cell_type": "code",
   "execution_count": 4,
   "metadata": {},
   "outputs": [],
   "source": [
    "def ch(x, y, z):\n",
    "    return None"
   ]
  },
  {
   "cell_type": "markdown",
   "metadata": {},
   "source": [
    "### The function maj(x, y, z) which takes a majority vote of the bits in x, y, and z.\n",
    "The output should have a 1 in bit position i where at least two of x, y, and z have 1's in position i.  \n",
    "All other output bit positions should be 0."
   ]
  },
  {
   "cell_type": "code",
   "execution_count": 5,
   "metadata": {},
   "outputs": [],
   "source": [
    "def maj(x, y, z):\n",
    "    return None"
   ]
  },
  {
   "cell_type": "markdown",
   "metadata": {},
   "source": [
    "## Task 2: Hash Functions\n",
    "\n",
    "The following is a converted hash function from The C Programming Language by Brian Kernighan and Dennis Ritchie."
   ]
  },
  {
   "cell_type": "code",
   "execution_count": null,
   "metadata": {},
   "outputs": [],
   "source": []
  },
  {
   "cell_type": "markdown",
   "metadata": {},
   "source": [
    "## Task 3: SHA256\n",
    "\n",
    "A Python function that calculates the SHA256 padding for a given file.  \n",
    "The function takes a file path as input.  \n",
    "It prints, in hex, the padding that would be applied to it."
   ]
  },
  {
   "cell_type": "code",
   "execution_count": null,
   "metadata": {},
   "outputs": [],
   "source": []
  },
  {
   "cell_type": "markdown",
   "metadata": {},
   "source": [
    "## Task 4: Prime Numbers\n",
    "\n",
    "Calculates the first 1,00 prime numbers using two different algorithms."
   ]
  },
  {
   "cell_type": "code",
   "execution_count": null,
   "metadata": {},
   "outputs": [],
   "source": []
  },
  {
   "cell_type": "markdown",
   "metadata": {},
   "source": [
    "## Task 5: Roots\n",
    "\n",
    "Calculates the first 32 bits of the fractional part of the square roots or the first 100 prime numbers."
   ]
  },
  {
   "cell_type": "code",
   "execution_count": null,
   "metadata": {},
   "outputs": [],
   "source": []
  },
  {
   "cell_type": "markdown",
   "metadata": {},
   "source": [
    "## Task 6: Proof of Work\n",
    "\n",
    "Finds the word(s) in the English language with the greatest number of 0 bits at the beginning of their SHA256 hash digest."
   ]
  },
  {
   "cell_type": "code",
   "execution_count": null,
   "metadata": {},
   "outputs": [],
   "source": []
  },
  {
   "cell_type": "markdown",
   "metadata": {},
   "source": [
    "## Task 7: Turing Machines\n",
    "\n",
    "A Turing Machine that adds 1 to a binary number on its tape.  \n",
    "The machine starts at the left-most non-blank symbol.  \n",
    "It treats the right-most symbol as the least significant bit.  "
   ]
  },
  {
   "cell_type": "code",
   "execution_count": null,
   "metadata": {},
   "outputs": [],
   "source": []
  },
  {
   "cell_type": "markdown",
   "metadata": {},
   "source": [
    "## Task 8: Computational Complexity\n",
    "\n",
    "Implementation of bubble sort in Python, modifying it to count the number of comparisons made during sorting."
   ]
  },
  {
   "cell_type": "markdown",
   "metadata": {},
   "source": [
    "## Run Tasks"
   ]
  },
  {
   "cell_type": "code",
   "execution_count": 6,
   "metadata": {},
   "outputs": [
    {
     "name": "stdout",
     "output_type": "stream",
     "text": [
      "Rotate Left:\n",
      "x bits: 0b11101110011010110010100000000000\n",
      "Result bits: 0b1110011010110010100000000000111\n",
      "1935228935 \n",
      "\n",
      "Rotate Right:\n",
      "x bits: 0b10100\n",
      "Result bits: 0b10000000000000000000000000000010\n",
      "2147483650 \n",
      "\n"
     ]
    }
   ],
   "source": [
    "# Task 1\n",
    "\n",
    "print(\"Rotate Left:\")\n",
    "print(rotl(4000000000, 3), \"\\n\")\n",
    "\n",
    "print(\"Rotate Right:\")\n",
    "print(rotr(20, 3), \"\\n\")"
   ]
  },
  {
   "cell_type": "code",
   "execution_count": null,
   "metadata": {},
   "outputs": [],
   "source": []
  }
 ],
 "metadata": {
  "kernelspec": {
   "display_name": "Python 3 (ipykernel)",
   "language": "python",
   "name": "python3"
  },
  "language_info": {
   "codemirror_mode": {
    "name": "ipython",
    "version": 3
   },
   "file_extension": ".py",
   "mimetype": "text/x-python",
   "name": "python",
   "nbconvert_exporter": "python",
   "pygments_lexer": "ipython3",
   "version": "3.11.0"
  }
 },
 "nbformat": 4,
 "nbformat_minor": 4
}
