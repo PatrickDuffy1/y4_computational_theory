{
 "cells": [
  {
   "cell_type": "markdown",
   "metadata": {},
   "source": [
    "# Computational Theory Tasks"
   ]
  },
  {
   "cell_type": "code",
   "execution_count": 99,
   "metadata": {},
   "outputs": [],
   "source": [
    "import numpy as np\n",
    "import math"
   ]
  },
  {
   "cell_type": "markdown",
   "metadata": {},
   "source": [
    "## Task 1: Binary Representations"
   ]
  },
  {
   "cell_type": "markdown",
   "metadata": {},
   "source": [
    "### The function rotl(x, n=1) rotates the bits in a 32-bit unsigned integer to the left n places."
   ]
  },
  {
   "cell_type": "code",
   "execution_count": 100,
   "metadata": {},
   "outputs": [],
   "source": [
    "def rotl(x, n=1):\n",
    "    \n",
    "    # Make x and y 32 bit unsigned ints\n",
    "    # https://numpy.org/doc/2.1/reference/arrays.scalars.html#numpy.uint32\n",
    "    x = np.uint32(x)\n",
    "    y = np.uint32(x)\n",
    "\n",
    "    print_bits_with_leading_zeros(\"x bits:\", x)\n",
    "    \n",
    "    # Shift y 32 bits - n to the left\n",
    "    y = x >> 32 - n\n",
    "\n",
    "    # Shift x n bits to the right\n",
    "    x = x << n\n",
    "\n",
    "    # Perform bitwise OR on x and y to get the result\n",
    "    result = np.uint32(x | y)\n",
    "\n",
    "    print_bits_with_leading_zeros(\"R bits:\", result)\n",
    "    \n",
    "    return result"
   ]
  },
  {
   "cell_type": "markdown",
   "metadata": {},
   "source": [
    "### The function rotr(x, n=1) rotates the bits in a 32-bit unsigned integer to the right n places."
   ]
  },
  {
   "cell_type": "code",
   "execution_count": 101,
   "metadata": {},
   "outputs": [],
   "source": [
    "def rotr(x, n=1):\n",
    "    \n",
    "    # Make x and y 32 bit unsigned ints\n",
    "    # https://numpy.org/doc/2.1/reference/arrays.scalars.html#numpy.uint32\n",
    "    x = np.uint32(x)\n",
    "    y = np.uint32(x)\n",
    "\n",
    "    print_bits_with_leading_zeros(\"x bits:\", x)\n",
    "    \n",
    "    # Shift y 32 bits - n to the left\n",
    "    y = x << 32 - n\n",
    "\n",
    "    # Shift x n bits to the right\n",
    "    x = x >> n\n",
    "\n",
    "    # Perform bitwise OR on x and y to get the result\n",
    "    result = np.uint32(x | y)\n",
    "\n",
    "    print_bits_with_leading_zeros(\"R bits:\", result)\n",
    "    \n",
    "    return result"
   ]
  },
  {
   "cell_type": "markdown",
   "metadata": {},
   "source": [
    "### The function ch(x, y, z) that chooses the bits from y where x has bits set to 1 and bits in z where x has bits set to 0."
   ]
  },
  {
   "cell_type": "code",
   "execution_count": 102,
   "metadata": {},
   "outputs": [],
   "source": [
    "def ch(x, y, z):\n",
    "\n",
    "    x = np.uint32(x)\n",
    "    y = np.uint32(y)\n",
    "    z = np.uint32(z)\n",
    "    result = np.uint32(0)\n",
    "\n",
    "    result = (z & (x ^ z)) | (x & y)\n",
    "\n",
    "    print_bits_with_leading_zeros(\"x bits:\", x)\n",
    "    print_bits_with_leading_zeros(\"y bits:\", y)\n",
    "    print_bits_with_leading_zeros(\"z bits:\", z)\n",
    "    print_bits_with_leading_zeros(\"R bits:\", result)\n",
    "    \n",
    "    return result"
   ]
  },
  {
   "cell_type": "markdown",
   "metadata": {},
   "source": [
    "### The function maj(x, y, z) which takes a majority vote of the bits in x, y, and z.\n",
    "The output should have a 1 in bit position i where at least two of x, y, and z have 1's in position i.  \n",
    "All other output bit positions should be 0."
   ]
  },
  {
   "cell_type": "code",
   "execution_count": 103,
   "metadata": {},
   "outputs": [],
   "source": [
    "def maj(x, y, z):\n",
    "    \n",
    "    x = np.uint32(x)\n",
    "    y = np.uint32(y)\n",
    "    z = np.uint32(z)\n",
    "    result = np.uint32(0)\n",
    "\n",
    "    result = (x & y) | (x & z) | (z & y)\n",
    "\n",
    "    print_bits_with_leading_zeros(\"x bits:\", x)\n",
    "    print_bits_with_leading_zeros(\"y bits:\", y)\n",
    "    print_bits_with_leading_zeros(\"z bits:\", z)\n",
    "    print_bits_with_leading_zeros(\"R bits:\", result)\n",
    "\n",
    "    return result"
   ]
  },
  {
   "cell_type": "markdown",
   "metadata": {},
   "source": [
    "## Task 2: Hash Functions\n",
    "\n",
    "The following is a converted hash function from The C Programming Language by Brian Kernighan and Dennis Ritchie.\n",
    "\n",
    "31 and 101 were chosn becuase they seemed to work best for the task.\n",
    "\n",
    "(Note: I had to name the function hash_function instead of hash like the original because hash is a keyword in python)"
   ]
  },
  {
   "cell_type": "code",
   "execution_count": 104,
   "metadata": {},
   "outputs": [],
   "source": [
    "def hash_function(s):\n",
    "    hashval = np.uint32(0)\n",
    "    \n",
    "    for element in s:\n",
    "        hashval = ord(element) + 31 * hashval\n",
    "        \n",
    "    return hashval % 101"
   ]
  },
  {
   "cell_type": "markdown",
   "metadata": {},
   "source": [
    "## Task 3: SHA256\n",
    "\n",
    "A Python function that calculates the SHA256 padding for a given file.  \n",
    "The function takes a file path as input.  \n",
    "It prints, in hex, the padding that would be applied to it."
   ]
  },
  {
   "cell_type": "code",
   "execution_count": 105,
   "metadata": {},
   "outputs": [],
   "source": [
    "def calculate_file_sha(file_path):\n",
    "    \n",
    "    #value = np.uint64(0)\n",
    "    \n",
    "    # https://stackoverflow.com/a/41795615\n",
    "    content = open(file_path, 'r').read()\n",
    "    \n",
    "    character_bytes = []\n",
    "    \n",
    "    for character in content:\n",
    "        character_bytes.append(bin(int(ord(character) - ord('0'))))\n",
    "        \n",
    "    bits_length = 0\n",
    "    \n",
    "    for i in range(0, len(character_bytes)):\n",
    "        bits_length += len(character_bytes[i])\n",
    "        \n",
    "    print(character_bytes)"
   ]
  },
  {
   "cell_type": "markdown",
   "metadata": {},
   "source": [
    "## Task 4: Prime Numbers\n",
    "\n",
    "Calculates the first 1,00 prime numbers using two different algorithms."
   ]
  },
  {
   "cell_type": "code",
   "execution_count": 106,
   "metadata": {},
   "outputs": [],
   "source": [
    "def calculate_prime_numbers(primes_to_calculate = 100):\n",
    "    calculate_prime_numbers_trial_division(primes_to_calculate)\n",
    "    calculate_prime_numbers_wilsons_theorem(primes_to_calculate)"
   ]
  },
  {
   "cell_type": "code",
   "execution_count": 107,
   "metadata": {},
   "outputs": [],
   "source": [
    "def calculate_prime_numbers_trial_division(primes_to_calculate):\n",
    "    \n",
    "    # Trial Division\n",
    "    # https://www.symbolab.com/calculator/other/prime-number#middleText\n",
    "    prime_numbers = [2]\n",
    "    current_number = 3\n",
    "    \n",
    "    while len(prime_numbers) < primes_to_calculate:\n",
    "        \n",
    "        is_prime = True\n",
    "        \n",
    "        for i in range(2, current_number + 1):\n",
    "            \n",
    "            if current_number % i == 0 and current_number != i:\n",
    "                is_prime = False\n",
    "                break\n",
    "                \n",
    "        if is_prime:\n",
    "            prime_numbers.append(current_number)\n",
    "            \n",
    "        current_number += 1\n",
    "    \n",
    "    print(\"Trial Division\", prime_numbers)"
   ]
  },
  {
   "cell_type": "code",
   "execution_count": 108,
   "metadata": {},
   "outputs": [],
   "source": [
    "import math\n",
    "\n",
    "def calculate_prime_numbers_wilsons_theorem(primes_to_calculate):\n",
    "    prime_numbers = []\n",
    "    current_number = 2\n",
    "\n",
    "    while len(prime_numbers) < primes_to_calculate:\n",
    "        if math.factorial(current_number - 1) % current_number == current_number - 1:\n",
    "            prime_numbers.append(current_number)\n",
    "\n",
    "        current_number += 1\n",
    "\n",
    "    print(\"\\nWilson's Theorem Primes:\", prime_numbers)"
   ]
  },
  {
   "cell_type": "markdown",
   "metadata": {},
   "source": [
    "## Task 5: Roots\n",
    "\n",
    "Calculates the first 32 bits of the fractional part of the square roots or the first 100 prime numbers."
   ]
  },
  {
   "cell_type": "code",
   "execution_count": null,
   "metadata": {},
   "outputs": [],
   "source": []
  },
  {
   "cell_type": "markdown",
   "metadata": {},
   "source": [
    "## Task 6: Proof of Work\n",
    "\n",
    "Finds the word(s) in the English language with the greatest number of 0 bits at the beginning of their SHA256 hash digest."
   ]
  },
  {
   "cell_type": "code",
   "execution_count": null,
   "metadata": {},
   "outputs": [],
   "source": []
  },
  {
   "cell_type": "markdown",
   "metadata": {},
   "source": [
    "## Task 7: Turing Machines\n",
    "\n",
    "A Turing Machine that adds 1 to a binary number on its tape.  \n",
    "The machine starts at the left-most non-blank symbol.  \n",
    "It treats the right-most symbol as the least significant bit.  "
   ]
  },
  {
   "cell_type": "code",
   "execution_count": null,
   "metadata": {},
   "outputs": [],
   "source": []
  },
  {
   "cell_type": "markdown",
   "metadata": {},
   "source": [
    "## Task 8: Computational Complexity\n",
    "\n",
    "Implementation of bubble sort in Python, modifying it to count the number of comparisons made during sorting."
   ]
  },
  {
   "cell_type": "code",
   "execution_count": 109,
   "metadata": {},
   "outputs": [],
   "source": [
    "def bubble_sort(array):\n",
    "    \n",
    "    array_sorted = False\n",
    "    comparisons = 0\n",
    "    \n",
    "    while array_sorted == False:\n",
    "        \n",
    "        array_sorted = True\n",
    "        \n",
    "        for i in range(1, len(array)):\n",
    "            \n",
    "            if array[i] < array[i - 1]:\n",
    "                temp = array[i]\n",
    "                array[i] = array[i - 1]\n",
    "                array[i - 1] = temp\n",
    "                array_sorted = False\n",
    "                \n",
    "            comparisons += 1\n",
    "            \n",
    "    return array, comparisons"
   ]
  },
  {
   "cell_type": "code",
   "execution_count": 110,
   "metadata": {},
   "outputs": [],
   "source": [
    "# Print the bits using zfill to show the leading zeros\n",
    "# https://docs.python.org/3/library/stdtypes.html\n",
    "def print_bits_with_leading_zeros(message, value):\n",
    "    print(message, bin(value)[2:].zfill(np.iinfo(value.dtype).bits))"
   ]
  },
  {
   "cell_type": "markdown",
   "metadata": {},
   "source": [
    "## Run Tasks"
   ]
  },
  {
   "cell_type": "code",
   "execution_count": 111,
   "metadata": {},
   "outputs": [
    {
     "name": "stdout",
     "output_type": "stream",
     "text": [
      "Rotate Left:\n",
      "x bits: 11101110011010110010100000000000\n",
      "R bits: 01110011010110010100000000000111\n",
      "1935228935 \n",
      "\n"
     ]
    }
   ],
   "source": [
    "print(\"Rotate Left:\")\n",
    "print(rotl(4000000000, 3), \"\\n\")"
   ]
  },
  {
   "cell_type": "code",
   "execution_count": 112,
   "metadata": {},
   "outputs": [
    {
     "name": "stdout",
     "output_type": "stream",
     "text": [
      "Rotate Right:\n",
      "x bits: 00000000000000000000000000010100\n",
      "R bits: 10000000000000000000000000000010\n",
      "2147483650 \n",
      "\n"
     ]
    }
   ],
   "source": [
    "print(\"Rotate Right:\")\n",
    "print(rotr(20, 3), \"\\n\")"
   ]
  },
  {
   "cell_type": "code",
   "execution_count": 113,
   "metadata": {},
   "outputs": [
    {
     "name": "stdout",
     "output_type": "stream",
     "text": [
      "x bits: 00000000000011100110010101110110\n",
      "y bits: 00000000000001110010001101111000\n",
      "z bits: 00000000000000001011101101010000\n",
      "R bits: 00000000000001101011101101110000\n",
      "Choose: 441200 \n",
      "\n"
     ]
    }
   ],
   "source": [
    "print(\"Choose:\", ch(943478, 467832, 47952), \"\\n\")"
   ]
  },
  {
   "cell_type": "code",
   "execution_count": 114,
   "metadata": {},
   "outputs": [
    {
     "name": "stdout",
     "output_type": "stream",
     "text": [
      "x bits: 00000000000011100110010101110110\n",
      "y bits: 00000000000001110010001101111000\n",
      "z bits: 00000000000000001011101101010000\n",
      "R bits: 00000000000001100010001101110000\n",
      "Majority: 402288 \n",
      "\n"
     ]
    }
   ],
   "source": [
    "print(\"Majority:\", maj(943478, 467832, 47952), \"\\n\")"
   ]
  },
  {
   "cell_type": "code",
   "execution_count": 115,
   "metadata": {},
   "outputs": [
    {
     "name": "stdout",
     "output_type": "stream",
     "text": [
      "Hash: 70 \n",
      "\n"
     ]
    }
   ],
   "source": [
    "print(\"Hash:\", hash_function([\"a\", \"b\", \"c\", \"d\", \"e\"]), \"\\n\")"
   ]
  },
  {
   "cell_type": "code",
   "execution_count": 116,
   "metadata": {},
   "outputs": [
    {
     "name": "stdout",
     "output_type": "stream",
     "text": [
      "Sorted array: [1, 1, 3, 5, 5, 6, 7, 8, 9, 10, 43] , Comparisons 80 \n",
      "\n"
     ]
    }
   ],
   "source": [
    "sorted_array, comparisons = bubble_sort([5, 3, 8, 1, 10, 5, 7, 6, 1, 9, 43])\n",
    "print(\"Sorted array:\", sorted_array, \", Comparisons\", comparisons, \"\\n\")"
   ]
  },
  {
   "cell_type": "code",
   "execution_count": 117,
   "metadata": {},
   "outputs": [
    {
     "name": "stdout",
     "output_type": "stream",
     "text": [
      "['0b110001', '0b110010', '0b110011']\n"
     ]
    }
   ],
   "source": [
    "calculate_file_sha(\"task_resources/sha_test_file.txt\")"
   ]
  },
  {
   "cell_type": "code",
   "execution_count": 118,
   "metadata": {},
   "outputs": [
    {
     "name": "stdout",
     "output_type": "stream",
     "text": [
      "Trial Division [2, 3, 5, 7, 11, 13, 17, 19, 23, 29, 31, 37, 41, 43, 47, 53, 59, 61, 67, 71, 73, 79, 83, 89, 97, 101, 103, 107, 109, 113, 127, 131, 137, 139, 149, 151, 157, 163, 167, 173, 179, 181, 191, 193, 197, 199, 211, 223, 227, 229, 233, 239, 241, 251, 257, 263, 269, 271, 277, 281, 283, 293, 307, 311, 313, 317, 331, 337, 347, 349, 353, 359, 367, 373, 379, 383, 389, 397, 401, 409, 419, 421, 431, 433, 439, 443, 449, 457, 461, 463, 467, 479, 487, 491, 499, 503, 509, 521, 523, 541]\n",
      "\n",
      "Wilson's Theorem Primes: [2, 3, 5, 7, 11, 13, 17, 19, 23, 29, 31, 37, 41, 43, 47, 53, 59, 61, 67, 71, 73, 79, 83, 89, 97, 101, 103, 107, 109, 113, 127, 131, 137, 139, 149, 151, 157, 163, 167, 173, 179, 181, 191, 193, 197, 199, 211, 223, 227, 229, 233, 239, 241, 251, 257, 263, 269, 271, 277, 281, 283, 293, 307, 311, 313, 317, 331, 337, 347, 349, 353, 359, 367, 373, 379, 383, 389, 397, 401, 409, 419, 421, 431, 433, 439, 443, 449, 457, 461, 463, 467, 479, 487, 491, 499, 503, 509, 521, 523, 541]\n"
     ]
    }
   ],
   "source": [
    "calculate_prime_numbers()"
   ]
  },
  {
   "cell_type": "code",
   "execution_count": null,
   "metadata": {},
   "outputs": [],
   "source": []
  },
  {
   "cell_type": "code",
   "execution_count": null,
   "metadata": {},
   "outputs": [],
   "source": []
  }
 ],
 "metadata": {
  "kernelspec": {
   "display_name": "Python 3",
   "language": "python",
   "name": "python3"
  },
  "language_info": {
   "codemirror_mode": {
    "name": "ipython",
    "version": 3
   },
   "file_extension": ".py",
   "mimetype": "text/x-python",
   "name": "python",
   "nbconvert_exporter": "python",
   "pygments_lexer": "ipython3",
   "version": "3.7.3"
  }
 },
 "nbformat": 4,
 "nbformat_minor": 4
}
